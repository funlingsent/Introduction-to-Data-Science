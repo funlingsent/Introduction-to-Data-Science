{
 "cells": [
  {
   "cell_type": "markdown",
   "id": "ee65b85b-6335-40f4-98cc-0b706835f69a",
   "metadata": {},
   "source": [
    "# DATA TYPES\n",
    "### What are data types?\n",
    "* These are the categories of data when it comes to programming\n",
    "* Python is case sensitive\n",
    "\n",
    "#### 1. Numbers"
   ]
  },
  {
   "cell_type": "code",
   "execution_count": 8,
   "id": "75f79d74-b288-4c82-b135-666de09799c3",
   "metadata": {
    "scrolled": true
   },
   "outputs": [
    {
     "data": {
      "text/plain": [
       "42"
      ]
     },
     "execution_count": 8,
     "metadata": {},
     "output_type": "execute_result"
    }
   ],
   "source": [
    "42"
   ]
  },
  {
   "cell_type": "markdown",
   "id": "0d20bdeb-a95e-4d5d-9ca6-7d31bbb9827d",
   "metadata": {},
   "source": [
    "#### 2. Floats"
   ]
  },
  {
   "cell_type": "code",
   "execution_count": 15,
   "id": "d35ed180-76a8-4e4f-a948-50a6d48a081f",
   "metadata": {},
   "outputs": [
    {
     "data": {
      "text/plain": [
       "3.142"
      ]
     },
     "execution_count": 15,
     "metadata": {},
     "output_type": "execute_result"
    }
   ],
   "source": [
    "#Floats are also decimal numbers\n",
    "3.142"
   ]
  },
  {
   "cell_type": "markdown",
   "id": "970bec28-4bbb-4c74-8f72-403804980a1c",
   "metadata": {},
   "source": [
    "#### 3. Strings"
   ]
  },
  {
   "cell_type": "code",
   "execution_count": 29,
   "id": "5f753c17-f17e-4c1a-b5d4-da9dc5fa505d",
   "metadata": {},
   "outputs": [
    {
     "data": {
      "text/plain": [
       "'Carol'"
      ]
     },
     "execution_count": 29,
     "metadata": {},
     "output_type": "execute_result"
    }
   ],
   "source": [
    "#Letters and characters or a mixture of the two\n",
    "\"Carol\""
   ]
  },
  {
   "cell_type": "code",
   "execution_count": 31,
   "id": "61aaf580-0b86-458a-8a28-e12a6c68a919",
   "metadata": {},
   "outputs": [
    {
     "data": {
      "text/plain": [
       "'Kevin'"
      ]
     },
     "execution_count": 31,
     "metadata": {},
     "output_type": "execute_result"
    }
   ],
   "source": [
    "'Kevin'"
   ]
  },
  {
   "cell_type": "code",
   "execution_count": 35,
   "id": "49c7c99d-0472-4445-96a2-f78537a4a8ce",
   "metadata": {},
   "outputs": [
    {
     "data": {
      "text/plain": [
       "'^'"
      ]
     },
     "execution_count": 35,
     "metadata": {},
     "output_type": "execute_result"
    }
   ],
   "source": [
    "\"^\""
   ]
  },
  {
   "cell_type": "code",
   "execution_count": 39,
   "id": "c28ae3f4-60dc-4a97-8320-ee87304c0a06",
   "metadata": {},
   "outputs": [
    {
     "data": {
      "text/plain": [
       "'.'"
      ]
     },
     "execution_count": 39,
     "metadata": {},
     "output_type": "execute_result"
    }
   ],
   "source": [
    "\".\""
   ]
  },
  {
   "cell_type": "code",
   "execution_count": 41,
   "id": "96f23a69-080f-4b1b-94b9-4e1216d42389",
   "metadata": {},
   "outputs": [
    {
     "data": {
      "text/plain": [
       "'Nairobi.'"
      ]
     },
     "execution_count": 41,
     "metadata": {},
     "output_type": "execute_result"
    }
   ],
   "source": [
    "\"Nairobi.\""
   ]
  },
  {
   "cell_type": "markdown",
   "id": "b802d60e-46f0-44d1-b6ac-29eb893a92d4",
   "metadata": {},
   "source": [
    "#### 4. Boolean"
   ]
  },
  {
   "cell_type": "code",
   "execution_count": 46,
   "id": "a0058397-edbc-41e3-9bac-577b0fade225",
   "metadata": {},
   "outputs": [
    {
     "data": {
      "text/plain": [
       "True"
      ]
     },
     "execution_count": 46,
     "metadata": {},
     "output_type": "execute_result"
    }
   ],
   "source": [
    "True"
   ]
  },
  {
   "cell_type": "code",
   "execution_count": 50,
   "id": "d5c16e66-e607-4cd4-9948-7652e694da31",
   "metadata": {},
   "outputs": [
    {
     "data": {
      "text/plain": [
       "False"
      ]
     },
     "execution_count": 50,
     "metadata": {},
     "output_type": "execute_result"
    }
   ],
   "source": [
    "False"
   ]
  },
  {
   "cell_type": "code",
   "execution_count": 55,
   "id": "d79b2580-d59e-4eb5-a8a0-732e86ac2d57",
   "metadata": {},
   "outputs": [
    {
     "data": {
      "text/plain": [
       "False"
      ]
     },
     "execution_count": 55,
     "metadata": {},
     "output_type": "execute_result"
    }
   ],
   "source": [
    "#Proof that Python is case sensitive\n",
    "\"Carol\" == \"CAROL\""
   ]
  },
  {
   "cell_type": "code",
   "execution_count": 57,
   "id": "bd29924a-2fb9-4f11-bd65-69bed5bec71d",
   "metadata": {},
   "outputs": [
    {
     "data": {
      "text/plain": [
       "True"
      ]
     },
     "execution_count": 57,
     "metadata": {},
     "output_type": "execute_result"
    }
   ],
   "source": [
    "\"Carol\" == \"Carol\""
   ]
  },
  {
   "cell_type": "code",
   "execution_count": 59,
   "id": "3bb804d7-ccfb-45e2-a7d3-b57a73b5ee3c",
   "metadata": {},
   "outputs": [
    {
     "data": {
      "text/plain": [
       "False"
      ]
     },
     "execution_count": 59,
     "metadata": {},
     "output_type": "execute_result"
    }
   ],
   "source": [
    "\"Carol\" == \"Carol123\""
   ]
  },
  {
   "cell_type": "markdown",
   "id": "76d51f3f-8208-407d-a1f6-fcd88a733821",
   "metadata": {},
   "source": [
    "### Checking of data types"
   ]
  },
  {
   "cell_type": "code",
   "execution_count": 67,
   "id": "d5484196-1c85-48f3-ace6-76962be30d41",
   "metadata": {},
   "outputs": [
    {
     "data": {
      "text/plain": [
       "str"
      ]
     },
     "execution_count": 67,
     "metadata": {},
     "output_type": "execute_result"
    }
   ],
   "source": [
    "type(\"Carol\")"
   ]
  },
  {
   "cell_type": "code",
   "execution_count": 77,
   "id": "6951dc69-189f-4f0f-beb9-de5801c32ca0",
   "metadata": {},
   "outputs": [
    {
     "data": {
      "text/plain": [
       "bool"
      ]
     },
     "execution_count": 77,
     "metadata": {},
     "output_type": "execute_result"
    }
   ],
   "source": [
    "type(True)"
   ]
  },
  {
   "cell_type": "code",
   "execution_count": 79,
   "id": "c4dec2ec-beec-4e2f-8124-74aeb0bfe01a",
   "metadata": {},
   "outputs": [
    {
     "data": {
      "text/plain": [
       "str"
      ]
     },
     "execution_count": 79,
     "metadata": {},
     "output_type": "execute_result"
    }
   ],
   "source": [
    "type(\"True\")"
   ]
  },
  {
   "cell_type": "code",
   "execution_count": 69,
   "id": "f3f06670-ccf7-4769-a9e5-3b0d2bbc9958",
   "metadata": {},
   "outputs": [
    {
     "data": {
      "text/plain": [
       "bool"
      ]
     },
     "execution_count": 69,
     "metadata": {},
     "output_type": "execute_result"
    }
   ],
   "source": [
    "type(False)"
   ]
  },
  {
   "cell_type": "code",
   "execution_count": 75,
   "id": "dc205781-4349-4182-8adb-d9174c5e57ac",
   "metadata": {},
   "outputs": [
    {
     "data": {
      "text/plain": [
       "str"
      ]
     },
     "execution_count": 75,
     "metadata": {},
     "output_type": "execute_result"
    }
   ],
   "source": [
    "type(\"False\")"
   ]
  },
  {
   "cell_type": "code",
   "execution_count": 71,
   "id": "63cd7676-9380-47f5-8f85-726b7451f746",
   "metadata": {},
   "outputs": [
    {
     "data": {
      "text/plain": [
       "int"
      ]
     },
     "execution_count": 71,
     "metadata": {},
     "output_type": "execute_result"
    }
   ],
   "source": [
    "type(35)"
   ]
  },
  {
   "cell_type": "code",
   "execution_count": 73,
   "id": "9b9f0b36-54af-4137-a7a5-8624e3bafef5",
   "metadata": {},
   "outputs": [
    {
     "data": {
      "text/plain": [
       "float"
      ]
     },
     "execution_count": 73,
     "metadata": {},
     "output_type": "execute_result"
    }
   ],
   "source": [
    "type(45.5)"
   ]
  },
  {
   "cell_type": "markdown",
   "id": "1f9b82dd-8745-404a-ad0f-a632ebb49bb2",
   "metadata": {},
   "source": [
    "### Conversion of data types"
   ]
  },
  {
   "cell_type": "code",
   "execution_count": 81,
   "id": "72a18256-8a2c-4578-9502-50a64c57e2d6",
   "metadata": {},
   "outputs": [
    {
     "data": {
      "text/plain": [
       "60.0"
      ]
     },
     "execution_count": 81,
     "metadata": {},
     "output_type": "execute_result"
    }
   ],
   "source": [
    "#Conversion of an integer to float\n",
    "float(60)"
   ]
  },
  {
   "cell_type": "code",
   "execution_count": 83,
   "id": "e795f18e-2064-45f5-801e-e545a8fa6902",
   "metadata": {},
   "outputs": [
    {
     "data": {
      "text/plain": [
       "float"
      ]
     },
     "execution_count": 83,
     "metadata": {},
     "output_type": "execute_result"
    }
   ],
   "source": [
    "type(60.0)"
   ]
  },
  {
   "cell_type": "code",
   "execution_count": 85,
   "id": "3f438c74-3cdf-4ffd-b73d-fc8371e9d74d",
   "metadata": {},
   "outputs": [
    {
     "data": {
      "text/plain": [
       "60"
      ]
     },
     "execution_count": 85,
     "metadata": {},
     "output_type": "execute_result"
    }
   ],
   "source": [
    "#Conversion of a float to integer\n",
    "int(60.0)"
   ]
  },
  {
   "cell_type": "code",
   "execution_count": 87,
   "id": "22a4d9d8-efc5-4c87-aedd-ddd7881df5c2",
   "metadata": {},
   "outputs": [
    {
     "data": {
      "text/plain": [
       "int"
      ]
     },
     "execution_count": 87,
     "metadata": {},
     "output_type": "execute_result"
    }
   ],
   "source": [
    "type(60)"
   ]
  },
  {
   "cell_type": "code",
   "execution_count": 1,
   "id": "a4584757-7ba4-40a4-954f-30aab5058f3f",
   "metadata": {},
   "outputs": [],
   "source": [
    "x =60"
   ]
  },
  {
   "cell_type": "code",
   "execution_count": 3,
   "id": "0ee12a9b-756c-463a-b16a-46d328741a8b",
   "metadata": {},
   "outputs": [
    {
     "data": {
      "text/plain": [
       "60"
      ]
     },
     "execution_count": 3,
     "metadata": {},
     "output_type": "execute_result"
    }
   ],
   "source": [
    "x"
   ]
  },
  {
   "cell_type": "code",
   "execution_count": 5,
   "id": "fdf526c4-99b8-47ae-a960-f4273354646a",
   "metadata": {},
   "outputs": [
    {
     "data": {
      "text/plain": [
       "int"
      ]
     },
     "execution_count": 5,
     "metadata": {},
     "output_type": "execute_result"
    }
   ],
   "source": [
    "type(x)"
   ]
  },
  {
   "cell_type": "code",
   "execution_count": 7,
   "id": "817b6d5a-349b-4c38-aaf4-0e7883e418cc",
   "metadata": {},
   "outputs": [],
   "source": [
    "y = str(x)"
   ]
  },
  {
   "cell_type": "code",
   "execution_count": 9,
   "id": "9899d018-e3b0-4eb4-a15f-d956652ef766",
   "metadata": {},
   "outputs": [
    {
     "data": {
      "text/plain": [
       "'60'"
      ]
     },
     "execution_count": 9,
     "metadata": {},
     "output_type": "execute_result"
    }
   ],
   "source": [
    "y"
   ]
  },
  {
   "cell_type": "code",
   "execution_count": 11,
   "id": "f1ab3c69-086d-4130-a2f0-59afc093bc35",
   "metadata": {},
   "outputs": [
    {
     "data": {
      "text/plain": [
       "str"
      ]
     },
     "execution_count": 11,
     "metadata": {},
     "output_type": "execute_result"
    }
   ],
   "source": [
    "type(y)"
   ]
  },
  {
   "cell_type": "code",
   "execution_count": null,
   "id": "6fc65a8c-aa26-4d1e-bbe7-a704a135c94a",
   "metadata": {},
   "outputs": [],
   "source": []
  }
 ],
 "metadata": {
  "kernelspec": {
   "display_name": "Python [conda env:base] *",
   "language": "python",
   "name": "conda-base-py"
  },
  "language_info": {
   "codemirror_mode": {
    "name": "ipython",
    "version": 3
   },
   "file_extension": ".py",
   "mimetype": "text/x-python",
   "name": "python",
   "nbconvert_exporter": "python",
   "pygments_lexer": "ipython3",
   "version": "3.12.7"
  }
 },
 "nbformat": 4,
 "nbformat_minor": 5
}
