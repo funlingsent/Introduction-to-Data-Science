{
 "cells": [
  {
   "cell_type": "markdown",
   "id": "fc0ef498-7aa8-4ecf-8036-83b28ee2ecfd",
   "metadata": {},
   "source": [
    "## LISTS\n",
    "* A list has two parts which are the **variable** and the **element(s)**"
   ]
  },
  {
   "cell_type": "code",
   "execution_count": 13,
   "id": "204d81db-3c9a-4c00-869c-84b592c9329a",
   "metadata": {},
   "outputs": [],
   "source": [
    "#Variable creation\n",
    "x = 5"
   ]
  },
  {
   "cell_type": "code",
   "execution_count": 11,
   "id": "8d063717-854e-4710-b472-3a188169703b",
   "metadata": {
    "scrolled": true
   },
   "outputs": [
    {
     "data": {
      "text/plain": [
       "5"
      ]
     },
     "execution_count": 11,
     "metadata": {},
     "output_type": "execute_result"
    }
   ],
   "source": [
    "x"
   ]
  },
  {
   "cell_type": "markdown",
   "id": "35479787-7614-45a0-bdab-6081478e9b7a",
   "metadata": {},
   "source": [
    "### List creation with the same data type"
   ]
  },
  {
   "cell_type": "code",
   "execution_count": 36,
   "id": "35cda507-d492-42ef-a24b-f3dbb36ed319",
   "metadata": {},
   "outputs": [],
   "source": [
    "#List of strings\n",
    "a = ['a', 'b', 'c', 'd', 'e']"
   ]
  },
  {
   "cell_type": "code",
   "execution_count": 26,
   "id": "2a3f9462-622d-4053-a2bb-019755675e75",
   "metadata": {},
   "outputs": [
    {
     "data": {
      "text/plain": [
       "['a', 'b', 'c', 'd', 'e']"
      ]
     },
     "execution_count": 26,
     "metadata": {},
     "output_type": "execute_result"
    }
   ],
   "source": [
    "a"
   ]
  },
  {
   "cell_type": "code",
   "execution_count": 28,
   "id": "120d8511-5e1d-49ab-ba93-62a39354fdb5",
   "metadata": {},
   "outputs": [
    {
     "data": {
      "text/plain": [
       "list"
      ]
     },
     "execution_count": 28,
     "metadata": {},
     "output_type": "execute_result"
    }
   ],
   "source": [
    "type(a)"
   ]
  },
  {
   "cell_type": "code",
   "execution_count": 30,
   "id": "d24422d2-9578-44f7-9ce6-a2bf16c5fabb",
   "metadata": {},
   "outputs": [],
   "source": [
    "#List of integers\n",
    "b = [1,2,3,4,5,6]"
   ]
  },
  {
   "cell_type": "code",
   "execution_count": 32,
   "id": "30a5bfa6-cec9-46b1-b4e4-0f8268db6b1f",
   "metadata": {},
   "outputs": [
    {
     "data": {
      "text/plain": [
       "[1, 2, 3, 4, 5, 6]"
      ]
     },
     "execution_count": 32,
     "metadata": {},
     "output_type": "execute_result"
    }
   ],
   "source": [
    "b"
   ]
  },
  {
   "cell_type": "code",
   "execution_count": 34,
   "id": "ba888597-0acf-4f9d-9edb-0b4b01b60549",
   "metadata": {},
   "outputs": [
    {
     "data": {
      "text/plain": [
       "list"
      ]
     },
     "execution_count": 34,
     "metadata": {},
     "output_type": "execute_result"
    }
   ],
   "source": [
    "type(b)"
   ]
  },
  {
   "cell_type": "code",
   "execution_count": 38,
   "id": "49975137-7f9d-4d74-a05e-836bc87a4009",
   "metadata": {},
   "outputs": [],
   "source": [
    "#List of floats\n",
    "c = [1.5, 2.5, 3.5, 4.5, 5.5]"
   ]
  },
  {
   "cell_type": "code",
   "execution_count": 40,
   "id": "c20f8f73-ffac-4a33-8331-63a2858b7284",
   "metadata": {},
   "outputs": [
    {
     "data": {
      "text/plain": [
       "[1.5, 2.5, 3.5, 4.5, 5.5]"
      ]
     },
     "execution_count": 40,
     "metadata": {},
     "output_type": "execute_result"
    }
   ],
   "source": [
    "c"
   ]
  },
  {
   "cell_type": "code",
   "execution_count": 42,
   "id": "2152c032-431d-40c7-bb12-3f2398b577fa",
   "metadata": {},
   "outputs": [
    {
     "data": {
      "text/plain": [
       "list"
      ]
     },
     "execution_count": 42,
     "metadata": {},
     "output_type": "execute_result"
    }
   ],
   "source": [
    "type(c)"
   ]
  },
  {
   "cell_type": "markdown",
   "id": "b9e3bf6e-4b9f-465d-a5a8-494039a60e3d",
   "metadata": {},
   "source": [
    "### Creation of lists with different data types"
   ]
  },
  {
   "cell_type": "code",
   "execution_count": 45,
   "id": "36ace5c4-e9df-401f-b22e-ab075e2c1c1c",
   "metadata": {},
   "outputs": [],
   "source": [
    "d = [30, \"Jane\", \"Alex\", True, 37.5]"
   ]
  },
  {
   "cell_type": "code",
   "execution_count": 47,
   "id": "f29fcb25-d37e-4b18-a3c5-85166b592bb2",
   "metadata": {},
   "outputs": [
    {
     "data": {
      "text/plain": [
       "[30, 'Jane', 'Alex', True, 37.5]"
      ]
     },
     "execution_count": 47,
     "metadata": {},
     "output_type": "execute_result"
    }
   ],
   "source": [
    "d"
   ]
  },
  {
   "cell_type": "code",
   "execution_count": 49,
   "id": "bc3ec2f3-d38c-4c85-98d5-6090913cf3b6",
   "metadata": {},
   "outputs": [
    {
     "data": {
      "text/plain": [
       "list"
      ]
     },
     "execution_count": 49,
     "metadata": {},
     "output_type": "execute_result"
    }
   ],
   "source": [
    "type(d)"
   ]
  },
  {
   "cell_type": "markdown",
   "id": "4b89b158-3233-46fd-b904-4ecc1aafa13f",
   "metadata": {},
   "source": [
    "### Creation of an empty list"
   ]
  },
  {
   "cell_type": "code",
   "execution_count": 52,
   "id": "ec3e15b8-a90d-4dd5-9e5f-26fae08faf6b",
   "metadata": {},
   "outputs": [],
   "source": [
    "e = []"
   ]
  },
  {
   "cell_type": "code",
   "execution_count": 54,
   "id": "2d7a7df1-ae5e-45f1-a4b3-74775ac8e613",
   "metadata": {},
   "outputs": [
    {
     "data": {
      "text/plain": [
       "list"
      ]
     },
     "execution_count": 54,
     "metadata": {},
     "output_type": "execute_result"
    }
   ],
   "source": [
    "type(e)"
   ]
  },
  {
   "cell_type": "markdown",
   "id": "3e894ba9-adb8-483c-9e79-4b2755e2716e",
   "metadata": {},
   "source": [
    "### Automated ways of creating a list"
   ]
  },
  {
   "cell_type": "code",
   "execution_count": 57,
   "id": "9b8a4df5-1988-488e-bb95-1011d77461a2",
   "metadata": {},
   "outputs": [
    {
     "name": "stdin",
     "output_type": "stream",
     "text": [
      "Please enter your name Kevin\n"
     ]
    }
   ],
   "source": [
    "name = input(\"Please enter your name\")"
   ]
  },
  {
   "cell_type": "code",
   "execution_count": 59,
   "id": "6f012403-8a5c-42f0-b43b-cd1da7c21300",
   "metadata": {},
   "outputs": [
    {
     "data": {
      "text/plain": [
       "'Kevin'"
      ]
     },
     "execution_count": 59,
     "metadata": {},
     "output_type": "execute_result"
    }
   ],
   "source": [
    "name"
   ]
  },
  {
   "cell_type": "markdown",
   "id": "e9f3ab8b-21b3-42bb-a8df-28deade3fe6f",
   "metadata": {},
   "source": [
    "* We can convert each of the letters in the above input to be elements in a list"
   ]
  },
  {
   "cell_type": "code",
   "execution_count": 64,
   "id": "17903f6a-d062-4686-a609-207d51c0301b",
   "metadata": {},
   "outputs": [
    {
     "data": {
      "text/plain": [
       "70"
      ]
     },
     "execution_count": 64,
     "metadata": {},
     "output_type": "execute_result"
    }
   ],
   "source": [
    "int(70.5)"
   ]
  },
  {
   "cell_type": "code",
   "execution_count": 66,
   "id": "bcff8eea-a16e-4627-81f8-474649643464",
   "metadata": {},
   "outputs": [
    {
     "data": {
      "text/plain": [
       "20.0"
      ]
     },
     "execution_count": 66,
     "metadata": {},
     "output_type": "execute_result"
    }
   ],
   "source": [
    "float(20)"
   ]
  },
  {
   "cell_type": "code",
   "execution_count": 68,
   "id": "155ff0d7-5520-4ed2-96f5-c143c6795b77",
   "metadata": {},
   "outputs": [],
   "source": [
    "str_to_list = list(name)"
   ]
  },
  {
   "cell_type": "code",
   "execution_count": 70,
   "id": "8ff06d5b-7fa8-44e0-9eb8-4ffa9db34b3b",
   "metadata": {},
   "outputs": [
    {
     "data": {
      "text/plain": [
       "['K', 'e', 'v', 'i', 'n']"
      ]
     },
     "execution_count": 70,
     "metadata": {},
     "output_type": "execute_result"
    }
   ],
   "source": [
    "str_to_list"
   ]
  },
  {
   "cell_type": "code",
   "execution_count": 72,
   "id": "d2e4e3e1-df39-425c-9fc1-8ef41c59776b",
   "metadata": {},
   "outputs": [
    {
     "data": {
      "text/plain": [
       "list"
      ]
     },
     "execution_count": 72,
     "metadata": {},
     "output_type": "execute_result"
    }
   ],
   "source": [
    "type(str_to_list)"
   ]
  },
  {
   "cell_type": "markdown",
   "id": "25d495ca-197c-41b2-8fa5-ac57dd5bbca6",
   "metadata": {},
   "source": [
    "### Indexing in lists"
   ]
  },
  {
   "cell_type": "code",
   "execution_count": 75,
   "id": "158bd2d9-b8ba-4fec-bfb7-042d5ca0962b",
   "metadata": {},
   "outputs": [
    {
     "data": {
      "text/plain": [
       "[30, 'Jane', 'Alex', True, 37.5]"
      ]
     },
     "execution_count": 75,
     "metadata": {},
     "output_type": "execute_result"
    }
   ],
   "source": [
    "d"
   ]
  },
  {
   "cell_type": "code",
   "execution_count": 77,
   "id": "75cf7f9b-b8b4-4d24-8a2f-88b5d2c0a4f2",
   "metadata": {},
   "outputs": [
    {
     "data": {
      "text/plain": [
       "30"
      ]
     },
     "execution_count": 77,
     "metadata": {},
     "output_type": "execute_result"
    }
   ],
   "source": [
    "d[0]"
   ]
  },
  {
   "cell_type": "code",
   "execution_count": 79,
   "id": "19024bf2-a610-44b3-96b9-5c470cafcffc",
   "metadata": {},
   "outputs": [
    {
     "data": {
      "text/plain": [
       "'Jane'"
      ]
     },
     "execution_count": 79,
     "metadata": {},
     "output_type": "execute_result"
    }
   ],
   "source": [
    "d[1]"
   ]
  },
  {
   "cell_type": "code",
   "execution_count": 81,
   "id": "9ab7e017-081c-4875-89f7-91ae94b89fa5",
   "metadata": {},
   "outputs": [
    {
     "data": {
      "text/plain": [
       "'Alex'"
      ]
     },
     "execution_count": 81,
     "metadata": {},
     "output_type": "execute_result"
    }
   ],
   "source": [
    "d[2]"
   ]
  },
  {
   "cell_type": "code",
   "execution_count": 83,
   "id": "a8cfecb8-4988-4429-bd43-533bfcff6407",
   "metadata": {},
   "outputs": [
    {
     "data": {
      "text/plain": [
       "True"
      ]
     },
     "execution_count": 83,
     "metadata": {},
     "output_type": "execute_result"
    }
   ],
   "source": [
    "d[3]"
   ]
  },
  {
   "cell_type": "code",
   "execution_count": 85,
   "id": "f908dc5d-2a55-4a04-9b35-0b0a67765225",
   "metadata": {},
   "outputs": [
    {
     "data": {
      "text/plain": [
       "37.5"
      ]
     },
     "execution_count": 85,
     "metadata": {},
     "output_type": "execute_result"
    }
   ],
   "source": [
    "d[4]"
   ]
  },
  {
   "cell_type": "code",
   "execution_count": 107,
   "id": "9c6c66c0-ebf5-422f-a4b2-72a0765f91c5",
   "metadata": {},
   "outputs": [
    {
     "data": {
      "text/plain": [
       "[30, 'Jane', 'Alex', True, 37.5]"
      ]
     },
     "execution_count": 107,
     "metadata": {},
     "output_type": "execute_result"
    }
   ],
   "source": [
    "d"
   ]
  },
  {
   "cell_type": "code",
   "execution_count": 109,
   "id": "fc04132b-e5ec-441d-bac2-2970384d43bc",
   "metadata": {},
   "outputs": [
    {
     "data": {
      "text/plain": [
       "37.5"
      ]
     },
     "execution_count": 109,
     "metadata": {},
     "output_type": "execute_result"
    }
   ],
   "source": [
    "d[-1]"
   ]
  },
  {
   "cell_type": "code",
   "execution_count": 111,
   "id": "dca9beb3-0b4d-4844-8001-ad90b2bfe168",
   "metadata": {},
   "outputs": [
    {
     "data": {
      "text/plain": [
       "True"
      ]
     },
     "execution_count": 111,
     "metadata": {},
     "output_type": "execute_result"
    }
   ],
   "source": [
    "d[-2]"
   ]
  },
  {
   "cell_type": "code",
   "execution_count": 113,
   "id": "7aa5c74c-ab97-4530-8bc2-28d85f69b517",
   "metadata": {},
   "outputs": [
    {
     "data": {
      "text/plain": [
       "'Alex'"
      ]
     },
     "execution_count": 113,
     "metadata": {},
     "output_type": "execute_result"
    }
   ],
   "source": [
    "d[-3]"
   ]
  },
  {
   "cell_type": "code",
   "execution_count": 115,
   "id": "1bd77f2b-7ab8-473a-9a50-987bc7a7e0ae",
   "metadata": {},
   "outputs": [
    {
     "name": "stdout",
     "output_type": "stream",
     "text": [
      "Alex\n"
     ]
    }
   ],
   "source": [
    "print(d[-3])"
   ]
  },
  {
   "cell_type": "markdown",
   "id": "00662133-ae4e-432a-a6d1-ab606d2568b4",
   "metadata": {},
   "source": [
    "### Creating a list out of a range"
   ]
  },
  {
   "cell_type": "code",
   "execution_count": 98,
   "id": "09a508ee-e128-4332-aca8-79b9a2798137",
   "metadata": {},
   "outputs": [
    {
     "data": {
      "text/plain": [
       "range(0, 5)"
      ]
     },
     "execution_count": 98,
     "metadata": {},
     "output_type": "execute_result"
    }
   ],
   "source": [
    "range(5)"
   ]
  },
  {
   "cell_type": "code",
   "execution_count": 94,
   "id": "c1480674-f29e-4012-94cb-183e4d2a99ac",
   "metadata": {},
   "outputs": [],
   "source": [
    "f = list(range(5))"
   ]
  },
  {
   "cell_type": "code",
   "execution_count": 96,
   "id": "e82fb9f4-f3e1-49e5-9e12-013351e76287",
   "metadata": {},
   "outputs": [
    {
     "data": {
      "text/plain": [
       "[0, 1, 2, 3, 4]"
      ]
     },
     "execution_count": 96,
     "metadata": {},
     "output_type": "execute_result"
    }
   ],
   "source": [
    "f"
   ]
  },
  {
   "cell_type": "markdown",
   "id": "28cfa96c-758a-4253-9a0e-aff60a335352",
   "metadata": {},
   "source": [
    "### Length of a list"
   ]
  },
  {
   "cell_type": "code",
   "execution_count": 101,
   "id": "fb77fb61-3dc7-461a-84ee-8db85efff049",
   "metadata": {},
   "outputs": [
    {
     "data": {
      "text/plain": [
       "[30, 'Jane', 'Alex', True, 37.5]"
      ]
     },
     "execution_count": 101,
     "metadata": {},
     "output_type": "execute_result"
    }
   ],
   "source": [
    "d"
   ]
  },
  {
   "cell_type": "code",
   "execution_count": 103,
   "id": "cae1a575-11bf-4b7b-92a3-aeef6babdacd",
   "metadata": {},
   "outputs": [
    {
     "data": {
      "text/plain": [
       "5"
      ]
     },
     "execution_count": 103,
     "metadata": {},
     "output_type": "execute_result"
    }
   ],
   "source": [
    "len(d)"
   ]
  },
  {
   "cell_type": "code",
   "execution_count": 105,
   "id": "4f2b0cb8-2565-47eb-a1e3-294582edb874",
   "metadata": {},
   "outputs": [
    {
     "data": {
      "text/plain": [
       "0"
      ]
     },
     "execution_count": 105,
     "metadata": {},
     "output_type": "execute_result"
    }
   ],
   "source": [
    "len(e)"
   ]
  },
  {
   "cell_type": "markdown",
   "id": "58591bf0-8ed2-4598-8e13-07d7bf931882",
   "metadata": {},
   "source": [
    "### Slicing of lists"
   ]
  },
  {
   "cell_type": "code",
   "execution_count": 118,
   "id": "b53b4daa-4dd6-4ec4-96ea-dc7bfe181030",
   "metadata": {},
   "outputs": [
    {
     "data": {
      "text/plain": [
       "[30, 'Jane', 'Alex', True, 37.5]"
      ]
     },
     "execution_count": 118,
     "metadata": {},
     "output_type": "execute_result"
    }
   ],
   "source": [
    "d"
   ]
  },
  {
   "cell_type": "code",
   "execution_count": 120,
   "id": "3c1ef6eb-f34f-4804-b379-ce40a5085b2d",
   "metadata": {},
   "outputs": [
    {
     "data": {
      "text/plain": [
       "[30, 'Jane']"
      ]
     },
     "execution_count": 120,
     "metadata": {},
     "output_type": "execute_result"
    }
   ],
   "source": [
    "d[0:2]"
   ]
  },
  {
   "cell_type": "code",
   "execution_count": 122,
   "id": "39a7adec-9a84-45df-88c7-30448ea05215",
   "metadata": {},
   "outputs": [
    {
     "data": {
      "text/plain": [
       "[30, 'Jane', 'Alex']"
      ]
     },
     "execution_count": 122,
     "metadata": {},
     "output_type": "execute_result"
    }
   ],
   "source": [
    "d[0:3]"
   ]
  },
  {
   "cell_type": "code",
   "execution_count": 124,
   "id": "77c68538-14df-4320-8559-84de3ea5e8af",
   "metadata": {
    "scrolled": true
   },
   "outputs": [
    {
     "data": {
      "text/plain": [
       "[30, 'Jane', 'Alex', True]"
      ]
     },
     "execution_count": 124,
     "metadata": {},
     "output_type": "execute_result"
    }
   ],
   "source": [
    "d[0:4]"
   ]
  },
  {
   "cell_type": "code",
   "execution_count": 130,
   "id": "7d42b725-91e8-4c74-baa7-90cee5f87be4",
   "metadata": {},
   "outputs": [
    {
     "data": {
      "text/plain": [
       "[30, 'Jane', 'Alex', True, 37.5]"
      ]
     },
     "execution_count": 130,
     "metadata": {},
     "output_type": "execute_result"
    }
   ],
   "source": [
    "d"
   ]
  },
  {
   "cell_type": "code",
   "execution_count": 128,
   "id": "bdcc0a1f-c4dd-4c87-ad47-b6acef3b2111",
   "metadata": {},
   "outputs": [
    {
     "data": {
      "text/plain": [
       "['Alex', True]"
      ]
     },
     "execution_count": 128,
     "metadata": {},
     "output_type": "execute_result"
    }
   ],
   "source": [
    "d[2:4]"
   ]
  },
  {
   "cell_type": "code",
   "execution_count": 132,
   "id": "78080061-f188-4514-b483-0a103f87e389",
   "metadata": {},
   "outputs": [
    {
     "data": {
      "text/plain": [
       "['Jane', 'Alex', True]"
      ]
     },
     "execution_count": 132,
     "metadata": {},
     "output_type": "execute_result"
    }
   ],
   "source": [
    "d[1:4]"
   ]
  },
  {
   "cell_type": "markdown",
   "id": "f88e04fd-5533-41cb-8a3d-9afa84c0a5f6",
   "metadata": {},
   "source": [
    "### Concatenation\n",
    "* This is the merging of values in a list"
   ]
  },
  {
   "cell_type": "code",
   "execution_count": 140,
   "id": "61ef2c67-87e7-4951-a511-b3ab21b909d3",
   "metadata": {},
   "outputs": [],
   "source": [
    "g = [0,1,2,3]"
   ]
  },
  {
   "cell_type": "code",
   "execution_count": 142,
   "id": "b9d10ee7-8097-4f36-b098-bfc97125e506",
   "metadata": {},
   "outputs": [],
   "source": [
    "h = [4,5,6,7]"
   ]
  },
  {
   "cell_type": "code",
   "execution_count": 148,
   "id": "ed656dde-10f9-49b2-8af1-1dfc7d6a30f5",
   "metadata": {},
   "outputs": [],
   "source": [
    "i = g + h"
   ]
  },
  {
   "cell_type": "code",
   "execution_count": 150,
   "id": "f4792a67-b63d-49e0-9acc-b0072a49e1bf",
   "metadata": {},
   "outputs": [
    {
     "data": {
      "text/plain": [
       "[0, 1, 2, 3, 4, 5, 6, 7]"
      ]
     },
     "execution_count": 150,
     "metadata": {},
     "output_type": "execute_result"
    }
   ],
   "source": [
    "i"
   ]
  },
  {
   "cell_type": "markdown",
   "id": "5ecd264a-d3d0-4791-a52a-9b5d18b5f721",
   "metadata": {},
   "source": [
    "### Mathematical operations for values in lists\n",
    "* They are done iteratively to the end or until a certain condition is met"
   ]
  },
  {
   "cell_type": "code",
   "execution_count": 154,
   "id": "400a87e2-ad16-48e7-a037-f5b9b799e227",
   "metadata": {},
   "outputs": [
    {
     "data": {
      "text/plain": [
       "[0, 1, 2, 3, 4, 5, 6, 7]"
      ]
     },
     "execution_count": 154,
     "metadata": {},
     "output_type": "execute_result"
    }
   ],
   "source": [
    "i"
   ]
  },
  {
   "cell_type": "code",
   "execution_count": 164,
   "id": "7aca5547-c894-4ba0-88d0-04dc78ccc1ef",
   "metadata": {},
   "outputs": [],
   "source": [
    "j = g*3"
   ]
  },
  {
   "cell_type": "code",
   "execution_count": 166,
   "id": "c4a7dbc4-ceba-4e99-afb7-0fc050bca79a",
   "metadata": {},
   "outputs": [
    {
     "data": {
      "text/plain": [
       "[0, 1, 2, 3, 0, 1, 2, 3, 0, 1, 2, 3]"
      ]
     },
     "execution_count": 166,
     "metadata": {},
     "output_type": "execute_result"
    }
   ],
   "source": [
    "j"
   ]
  },
  {
   "cell_type": "markdown",
   "id": "c3e1cb2d-7005-4c85-b176-5aa39a3a5a23",
   "metadata": {},
   "source": [
    "#### Multiplying all values in a list"
   ]
  },
  {
   "cell_type": "code",
   "execution_count": 260,
   "id": "26b40564-23f7-4165-bcd9-30aeb34cc4ff",
   "metadata": {},
   "outputs": [],
   "source": [
    "m = [1,2,3,4]"
   ]
  },
  {
   "cell_type": "code",
   "execution_count": 262,
   "id": "ff1ec934-d04c-46e1-8185-50133a20720c",
   "metadata": {},
   "outputs": [
    {
     "data": {
      "text/plain": [
       "[1, 2, 3, 4]"
      ]
     },
     "execution_count": 262,
     "metadata": {},
     "output_type": "execute_result"
    }
   ],
   "source": [
    "m"
   ]
  },
  {
   "cell_type": "code",
   "execution_count": 288,
   "id": "8bcc8ccf-72b4-4eb1-8262-26b52b5f47fe",
   "metadata": {},
   "outputs": [
    {
     "name": "stdout",
     "output_type": "stream",
     "text": [
      "3\n",
      "6\n",
      "9\n",
      "12\n"
     ]
    }
   ],
   "source": [
    "#A for loop\n",
    "for each_value in m:\n",
    "    print(each_value*3)"
   ]
  },
  {
   "cell_type": "markdown",
   "id": "c3d82606-51f1-4d42-a8a1-213098c56848",
   "metadata": {},
   "source": [
    "### Changing values in a list"
   ]
  },
  {
   "cell_type": "code",
   "execution_count": 169,
   "id": "77b03bed-d22b-4291-8b16-2b54ceb2abe4",
   "metadata": {},
   "outputs": [
    {
     "data": {
      "text/plain": [
       "[30, 'Jane', 'Alex', True, 37.5]"
      ]
     },
     "execution_count": 169,
     "metadata": {},
     "output_type": "execute_result"
    }
   ],
   "source": [
    "d"
   ]
  },
  {
   "cell_type": "code",
   "execution_count": 171,
   "id": "0f057979-5f6a-4d7c-8d24-c3343f36789d",
   "metadata": {},
   "outputs": [],
   "source": [
    "d[1] = \"Carol\""
   ]
  },
  {
   "cell_type": "code",
   "execution_count": 173,
   "id": "ad3b7b2a-85a9-4377-8a97-3c5d08310bf1",
   "metadata": {},
   "outputs": [
    {
     "data": {
      "text/plain": [
       "[30, 'Carol', 'Alex', True, 37.5]"
      ]
     },
     "execution_count": 173,
     "metadata": {},
     "output_type": "execute_result"
    }
   ],
   "source": [
    "d"
   ]
  },
  {
   "cell_type": "markdown",
   "id": "62f392de-e37f-462a-ab0d-c7544ee777d1",
   "metadata": {},
   "source": [
    "### Adding elements through append\n",
    "* This one adds an element as the last value in a list"
   ]
  },
  {
   "cell_type": "code",
   "execution_count": 176,
   "id": "8a5e7c8b-4f54-4fd4-a34e-85a83fded4f3",
   "metadata": {},
   "outputs": [
    {
     "data": {
      "text/plain": [
       "[30, 'Carol', 'Alex', True, 37.5]"
      ]
     },
     "execution_count": 176,
     "metadata": {},
     "output_type": "execute_result"
    }
   ],
   "source": [
    "d"
   ]
  },
  {
   "cell_type": "code",
   "execution_count": 178,
   "id": "90ba83e2-44dc-41e9-9b01-86ea90c37b50",
   "metadata": {},
   "outputs": [],
   "source": [
    "d.append(\"Nairobi\")"
   ]
  },
  {
   "cell_type": "code",
   "execution_count": 180,
   "id": "c2441b8d-98a9-4823-8113-87c4497cfaa8",
   "metadata": {},
   "outputs": [
    {
     "data": {
      "text/plain": [
       "[30, 'Carol', 'Alex', True, 37.5, 'Nairobi']"
      ]
     },
     "execution_count": 180,
     "metadata": {},
     "output_type": "execute_result"
    }
   ],
   "source": [
    "d"
   ]
  },
  {
   "cell_type": "markdown",
   "id": "82e7ed6d-3737-47a9-9ab0-14ec9e3dbc4d",
   "metadata": {},
   "source": [
    "### Inserting at a specific position through indexing"
   ]
  },
  {
   "cell_type": "code",
   "execution_count": 183,
   "id": "2434f291-ba5a-4f6d-bb98-83e9d0d7f612",
   "metadata": {},
   "outputs": [
    {
     "data": {
      "text/plain": [
       "[30, 'Carol', 'Alex', True, 37.5, 'Nairobi']"
      ]
     },
     "execution_count": 183,
     "metadata": {},
     "output_type": "execute_result"
    }
   ],
   "source": [
    "d"
   ]
  },
  {
   "cell_type": "code",
   "execution_count": 185,
   "id": "86ec0154-0b9c-45e6-9b3a-a865756ef327",
   "metadata": {},
   "outputs": [],
   "source": [
    "d.insert(2, \"Mombasa\")"
   ]
  },
  {
   "cell_type": "code",
   "execution_count": 187,
   "id": "4b14c5b0-102a-46e3-8284-6c093fc09f01",
   "metadata": {},
   "outputs": [
    {
     "data": {
      "text/plain": [
       "[30, 'Carol', 'Mombasa', 'Alex', True, 37.5, 'Nairobi']"
      ]
     },
     "execution_count": 187,
     "metadata": {},
     "output_type": "execute_result"
    }
   ],
   "source": [
    "d"
   ]
  },
  {
   "cell_type": "code",
   "execution_count": 189,
   "id": "5fe4e7d6-a93a-4b50-a2fd-6338fc46d1db",
   "metadata": {},
   "outputs": [],
   "source": [
    "d.insert(4, \"Nakuru\")"
   ]
  },
  {
   "cell_type": "code",
   "execution_count": 191,
   "id": "108f0c17-6339-403d-9d2c-5871de46734c",
   "metadata": {},
   "outputs": [
    {
     "data": {
      "text/plain": [
       "[30, 'Carol', 'Mombasa', 'Alex', 'Nakuru', True, 37.5, 'Nairobi']"
      ]
     },
     "execution_count": 191,
     "metadata": {},
     "output_type": "execute_result"
    }
   ],
   "source": [
    "d"
   ]
  },
  {
   "cell_type": "markdown",
   "id": "4b85bc56-f9d2-482b-978a-c98d5aca210f",
   "metadata": {},
   "source": [
    "### Inserting through extend\n",
    "* Append is another alternative to extend"
   ]
  },
  {
   "cell_type": "code",
   "execution_count": 198,
   "id": "53c005a6-436b-4497-aa51-fd75574d9b7a",
   "metadata": {},
   "outputs": [
    {
     "data": {
      "text/plain": [
       "[30,\n",
       " 'Carol',\n",
       " 'Mombasa',\n",
       " 'Alex',\n",
       " 'Nakuru',\n",
       " True,\n",
       " 37.5,\n",
       " 'Nairobi',\n",
       " 0,\n",
       " 1,\n",
       " 2,\n",
       " 3,\n",
       " 4,\n",
       " 5,\n",
       " 6,\n",
       " 7]"
      ]
     },
     "execution_count": 198,
     "metadata": {},
     "output_type": "execute_result"
    }
   ],
   "source": [
    "d"
   ]
  },
  {
   "cell_type": "code",
   "execution_count": 200,
   "id": "8ee3941c-b8b4-4358-9279-33c77e24a3db",
   "metadata": {},
   "outputs": [],
   "source": [
    "d.extend([\"Kisumu\"])"
   ]
  },
  {
   "cell_type": "code",
   "execution_count": 202,
   "id": "a0c5c69f-13f5-41e9-847d-1de09738ae9b",
   "metadata": {},
   "outputs": [
    {
     "data": {
      "text/plain": [
       "[30,\n",
       " 'Carol',\n",
       " 'Mombasa',\n",
       " 'Alex',\n",
       " 'Nakuru',\n",
       " True,\n",
       " 37.5,\n",
       " 'Nairobi',\n",
       " 0,\n",
       " 1,\n",
       " 2,\n",
       " 3,\n",
       " 4,\n",
       " 5,\n",
       " 6,\n",
       " 7,\n",
       " 'Kisumu']"
      ]
     },
     "execution_count": 202,
     "metadata": {},
     "output_type": "execute_result"
    }
   ],
   "source": [
    "d"
   ]
  },
  {
   "cell_type": "markdown",
   "id": "c87c4509-c416-450a-8261-9b985fd638a2",
   "metadata": {},
   "source": [
    "### Removing elements in a list\n",
    "#### Removing by values"
   ]
  },
  {
   "cell_type": "code",
   "execution_count": 206,
   "id": "81c8ae6d-4d61-4ffa-84c5-a115082f8e39",
   "metadata": {},
   "outputs": [
    {
     "data": {
      "text/plain": [
       "[30,\n",
       " 'Carol',\n",
       " 'Mombasa',\n",
       " 'Alex',\n",
       " 'Nakuru',\n",
       " True,\n",
       " 37.5,\n",
       " 'Nairobi',\n",
       " 0,\n",
       " 1,\n",
       " 2,\n",
       " 3,\n",
       " 4,\n",
       " 5,\n",
       " 6,\n",
       " 7,\n",
       " 'Kisumu']"
      ]
     },
     "execution_count": 206,
     "metadata": {},
     "output_type": "execute_result"
    }
   ],
   "source": [
    "d"
   ]
  },
  {
   "cell_type": "code",
   "execution_count": 209,
   "id": "eeca28a8-1690-41c7-aefa-4ee43c815388",
   "metadata": {},
   "outputs": [],
   "source": [
    "d.remove(7)"
   ]
  },
  {
   "cell_type": "code",
   "execution_count": 211,
   "id": "47d7e0a1-a3a4-498c-b3d0-ef84f91819e5",
   "metadata": {},
   "outputs": [
    {
     "data": {
      "text/plain": [
       "[30,\n",
       " 'Carol',\n",
       " 'Mombasa',\n",
       " 'Alex',\n",
       " 'Nakuru',\n",
       " True,\n",
       " 37.5,\n",
       " 'Nairobi',\n",
       " 0,\n",
       " 1,\n",
       " 2,\n",
       " 3,\n",
       " 4,\n",
       " 5,\n",
       " 6,\n",
       " 'Kisumu']"
      ]
     },
     "execution_count": 211,
     "metadata": {},
     "output_type": "execute_result"
    }
   ],
   "source": [
    "d"
   ]
  },
  {
   "cell_type": "markdown",
   "id": "1ec7219f-eadf-498f-8da1-491294e6cc14",
   "metadata": {},
   "source": [
    "#### Remove the last element in a list"
   ]
  },
  {
   "cell_type": "code",
   "execution_count": 214,
   "id": "4801aa20-432c-4264-9909-62fcace98612",
   "metadata": {},
   "outputs": [
    {
     "data": {
      "text/plain": [
       "'Kisumu'"
      ]
     },
     "execution_count": 214,
     "metadata": {},
     "output_type": "execute_result"
    }
   ],
   "source": [
    "d.pop()"
   ]
  },
  {
   "cell_type": "code",
   "execution_count": 216,
   "id": "c28806ef-3bbb-435c-b8fd-a839d2b4216a",
   "metadata": {},
   "outputs": [
    {
     "data": {
      "text/plain": [
       "[30,\n",
       " 'Carol',\n",
       " 'Mombasa',\n",
       " 'Alex',\n",
       " 'Nakuru',\n",
       " True,\n",
       " 37.5,\n",
       " 'Nairobi',\n",
       " 0,\n",
       " 1,\n",
       " 2,\n",
       " 3,\n",
       " 4,\n",
       " 5,\n",
       " 6]"
      ]
     },
     "execution_count": 216,
     "metadata": {},
     "output_type": "execute_result"
    }
   ],
   "source": [
    "d"
   ]
  },
  {
   "cell_type": "code",
   "execution_count": 218,
   "id": "d8d4c6bb-1fbe-4831-a21f-b2261f803e6c",
   "metadata": {},
   "outputs": [
    {
     "data": {
      "text/plain": [
       "6"
      ]
     },
     "execution_count": 218,
     "metadata": {},
     "output_type": "execute_result"
    }
   ],
   "source": [
    "d.pop()"
   ]
  },
  {
   "cell_type": "code",
   "execution_count": 220,
   "id": "5d9ac656-ae07-40ba-9bff-8194aa96662e",
   "metadata": {},
   "outputs": [
    {
     "data": {
      "text/plain": [
       "[30,\n",
       " 'Carol',\n",
       " 'Mombasa',\n",
       " 'Alex',\n",
       " 'Nakuru',\n",
       " True,\n",
       " 37.5,\n",
       " 'Nairobi',\n",
       " 0,\n",
       " 1,\n",
       " 2,\n",
       " 3,\n",
       " 4,\n",
       " 5]"
      ]
     },
     "execution_count": 220,
     "metadata": {},
     "output_type": "execute_result"
    }
   ],
   "source": [
    "d"
   ]
  },
  {
   "cell_type": "markdown",
   "id": "d6503adb-69c9-4bfc-9b46-07ba82940d66",
   "metadata": {},
   "source": [
    "#### Removing by indexing\n",
    "* This works from a specific position in the list"
   ]
  },
  {
   "cell_type": "code",
   "execution_count": 224,
   "id": "4f08777d-119d-44f7-944d-83a43c0b18a5",
   "metadata": {},
   "outputs": [
    {
     "data": {
      "text/plain": [
       "37.5"
      ]
     },
     "execution_count": 224,
     "metadata": {},
     "output_type": "execute_result"
    }
   ],
   "source": [
    "d.pop(6)"
   ]
  },
  {
   "cell_type": "code",
   "execution_count": 226,
   "id": "59da56eb-f35f-44a3-9228-e4590bcaa8db",
   "metadata": {},
   "outputs": [
    {
     "data": {
      "text/plain": [
       "[30, 'Carol', 'Mombasa', 'Alex', 'Nakuru', True, 'Nairobi', 0, 1, 2, 3, 4, 5]"
      ]
     },
     "execution_count": 226,
     "metadata": {},
     "output_type": "execute_result"
    }
   ],
   "source": [
    "d"
   ]
  },
  {
   "cell_type": "code",
   "execution_count": 228,
   "id": "8e773d52-1c0f-4a63-a7f0-12df02c62a7e",
   "metadata": {},
   "outputs": [],
   "source": [
    "#Method 2 for removing by indexing\n",
    "del d[3]"
   ]
  },
  {
   "cell_type": "code",
   "execution_count": 230,
   "id": "9c904367-311a-4620-9ab0-21e31b86f075",
   "metadata": {},
   "outputs": [
    {
     "data": {
      "text/plain": [
       "[30, 'Carol', 'Mombasa', 'Nakuru', True, 'Nairobi', 0, 1, 2, 3, 4, 5]"
      ]
     },
     "execution_count": 230,
     "metadata": {},
     "output_type": "execute_result"
    }
   ],
   "source": [
    "d"
   ]
  },
  {
   "cell_type": "markdown",
   "id": "da1a5800-9c9f-40aa-8443-ed899aa27184",
   "metadata": {},
   "source": [
    "### Duplication of a list"
   ]
  },
  {
   "cell_type": "code",
   "execution_count": 237,
   "id": "6974ede2-3bf8-4187-9142-ba2a0e83e39a",
   "metadata": {},
   "outputs": [],
   "source": [
    "l = d.copy()"
   ]
  },
  {
   "cell_type": "code",
   "execution_count": 239,
   "id": "260965e7-fbba-4ccc-89b7-886cc8f17c02",
   "metadata": {},
   "outputs": [
    {
     "data": {
      "text/plain": [
       "[30, 'Carol', 'Mombasa', 'Nakuru', True, 'Nairobi', 0, 1, 2, 3, 4, 5]"
      ]
     },
     "execution_count": 239,
     "metadata": {},
     "output_type": "execute_result"
    }
   ],
   "source": [
    "l"
   ]
  },
  {
   "cell_type": "code",
   "execution_count": 241,
   "id": "462c7aea-d6a4-47c4-9f1d-0874861281d7",
   "metadata": {},
   "outputs": [
    {
     "data": {
      "text/plain": [
       "True"
      ]
     },
     "execution_count": 241,
     "metadata": {},
     "output_type": "execute_result"
    }
   ],
   "source": [
    "d == l"
   ]
  },
  {
   "cell_type": "code",
   "execution_count": 243,
   "id": "9345025a-c074-491c-bf61-98e590f2a05f",
   "metadata": {},
   "outputs": [
    {
     "data": {
      "text/plain": [
       "False"
      ]
     },
     "execution_count": 243,
     "metadata": {},
     "output_type": "execute_result"
    }
   ],
   "source": [
    "d == g"
   ]
  },
  {
   "cell_type": "markdown",
   "id": "a91f1f05-d49f-4bf7-a90d-331ac945ad95",
   "metadata": {},
   "source": [
    "### Clearing all values in a list"
   ]
  },
  {
   "cell_type": "code",
   "execution_count": 246,
   "id": "f70a8326-0d46-4281-9f70-b1eddafb45d2",
   "metadata": {},
   "outputs": [
    {
     "data": {
      "text/plain": [
       "[30, 'Carol', 'Mombasa', 'Nakuru', True, 'Nairobi', 0, 1, 2, 3, 4, 5]"
      ]
     },
     "execution_count": 246,
     "metadata": {},
     "output_type": "execute_result"
    }
   ],
   "source": [
    "l"
   ]
  },
  {
   "cell_type": "code",
   "execution_count": 248,
   "id": "25d007e2-639d-43c7-a3c0-43b5499dc6cb",
   "metadata": {},
   "outputs": [],
   "source": [
    "l.clear()"
   ]
  },
  {
   "cell_type": "code",
   "execution_count": 250,
   "id": "a02e43ca-7a8e-4e62-b2f9-d20807ca1fe3",
   "metadata": {},
   "outputs": [
    {
     "data": {
      "text/plain": [
       "[]"
      ]
     },
     "execution_count": 250,
     "metadata": {},
     "output_type": "execute_result"
    }
   ],
   "source": [
    "l"
   ]
  },
  {
   "cell_type": "code",
   "execution_count": 252,
   "id": "90c7b770-5a34-40f8-99a2-657df6082700",
   "metadata": {},
   "outputs": [
    {
     "data": {
      "text/plain": [
       "0"
      ]
     },
     "execution_count": 252,
     "metadata": {},
     "output_type": "execute_result"
    }
   ],
   "source": [
    "len(l)"
   ]
  },
  {
   "cell_type": "code",
   "execution_count": null,
   "id": "f7ac65f4-32dc-4e44-ba0d-9a2744c973d4",
   "metadata": {},
   "outputs": [],
   "source": []
  }
 ],
 "metadata": {
  "kernelspec": {
   "display_name": "Python [conda env:base] *",
   "language": "python",
   "name": "conda-base-py"
  },
  "language_info": {
   "codemirror_mode": {
    "name": "ipython",
    "version": 3
   },
   "file_extension": ".py",
   "mimetype": "text/x-python",
   "name": "python",
   "nbconvert_exporter": "python",
   "pygments_lexer": "ipython3",
   "version": "3.12.7"
  }
 },
 "nbformat": 4,
 "nbformat_minor": 5
}
