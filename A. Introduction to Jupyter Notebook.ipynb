{
 "cells": [
  {
   "cell_type": "markdown",
   "id": "8b8b8389-2df3-449d-a499-0f062a7cbdc6",
   "metadata": {},
   "source": [
    "# INTRODUCTION TO JUPYTER NOTEBOOK\n",
    "## TYPES OF CELLS\n",
    "<ol>\n",
    "    <li><b>Code:</b> Used to write Python code</li>\n",
    "    <li><b>Markdown:</b> Used to write comments in HTML format</li>\n",
    "    <li><b>Raw:</b> Used to information in plain text format just like notepad files</li>\n",
    "</ol>\n",
    "\n",
    "## MARKDOWN\n",
    "* Markdown - This is a commenting/documentation strategy in Jupyter Notebook\n",
    "* There are two main modes of commenting in the platform:\n",
    "<ol>\n",
    "    <li><b>Markdown</b> - Uses HyperText Markup Language (HTML) to create the comments</li>\n",
    "    <li><b>Python</b> - Uses a hashtag(#) before the beginning of the descriptive statement</li>\n",
    "</ol>"
   ]
  },
  {
   "cell_type": "raw",
   "id": "f0469b71-bc48-4bb4-a546-8864401f0581",
   "metadata": {},
   "source": [
    "### Introduction to Markdown\n",
    "# This is the syntax for Heading 1 (One hashtag at the beginning)\n",
    "## This is the syntax for Heading 2 (Two hashtags at the beginning)\n",
    "### This is the syntax for Heading 3 (Three hashtags at the beginning)\n",
    "#### This is the syntax for Heading 4 (Four hashtags at the beginning)\n",
    "##### This is the syntax for Heading 5 (Five hashtags at the beginning)"
   ]
  },
  {
   "cell_type": "raw",
   "id": "d5f7d5af-05c9-454f-9532-c2d8925d47b5",
   "metadata": {
    "jp-MarkdownHeadingCollapsed": true
   },
   "source": [
    "### Stamements\n",
    "* Statements in markdown are usually created starting with the asterik symbol (*)\n",
    "\n",
    "### Markdown Tags\n",
    "<b>This is is the syntax for a bolded statement</b>\n",
    "<p><i>This is the syntax for is an italicized statement</i></p>\n",
    "<p><u>This is the syntax for is an underlined statement</u></p>\n",
    "<p><u><b>This is the syntax for is an underlined and bolded statement</b></u></p>\n",
    "\n",
    "* **b** - Bolding (Can also use two asteriks before and after the bolded statement)\n",
    "* **i** - Italicizing (Can also use one asteriks before and after the bolded statement)\n",
    "* **u** - Underlining\n",
    "* **p** - Paragraph\n",
    "* **ol** - Ordered list\n",
    "* **ul** - Unordered list\n"
   ]
  },
  {
   "cell_type": "markdown",
   "id": "84491efc-6052-420f-adf8-23dab74fbc71",
   "metadata": {
    "scrolled": true
   },
   "source": [
    "* **This is bold**\n",
    "* *This is italicized*\n",
    "* ***This is bolded and italicized***"
   ]
  },
  {
   "cell_type": "markdown",
   "id": "8bdb92e3-cdbc-4c24-b3b1-8907d44ef404",
   "metadata": {},
   "source": [
    "### Listing in markdown\n",
    "* There are two types of lists in markdown:\n",
    "<ol>\n",
    "    <li><b>Ordered list</b> - They use numbers in ordering</li>\n",
    "    <li><b>Unordered list</b> - They use symbols for numbering</li>\n",
    "</ol>\n",
    "\n",
    "* Here is an example of an unordered list **(Convert the cell below to markdown in order to execute it:)**\n"
   ]
  },
  {
   "cell_type": "raw",
   "id": "21a3153f-ed1f-4173-860a-8c0cc1e93f87",
   "metadata": {},
   "source": [
    "<ul>\n",
    "    <li><b>Ordered list</b> - They use numbers in ordering</li>\n",
    "    <li><b>Unordered list</b> - They use symbols for numbering</li>\n",
    "</ul>"
   ]
  },
  {
   "cell_type": "code",
   "execution_count": null,
   "id": "7932e3eb-9816-4f9e-82bd-5e7e8a140fc3",
   "metadata": {},
   "outputs": [],
   "source": []
  },
  {
   "cell_type": "code",
   "execution_count": null,
   "id": "adc6947b-f8b5-46cd-85ab-d373ce79f25e",
   "metadata": {},
   "outputs": [],
   "source": []
  },
  {
   "cell_type": "code",
   "execution_count": null,
   "id": "c1962c0c-f94e-4caf-888e-1eb59e87ed08",
   "metadata": {},
   "outputs": [],
   "source": []
  }
 ],
 "metadata": {
  "kernelspec": {
   "display_name": "Python [conda env:base] *",
   "language": "python",
   "name": "conda-base-py"
  },
  "language_info": {
   "codemirror_mode": {
    "name": "ipython",
    "version": 3
   },
   "file_extension": ".py",
   "mimetype": "text/x-python",
   "name": "python",
   "nbconvert_exporter": "python",
   "pygments_lexer": "ipython3",
   "version": "3.12.7"
  }
 },
 "nbformat": 4,
 "nbformat_minor": 5
}
