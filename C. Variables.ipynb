{
 "cells": [
  {
   "cell_type": "markdown",
   "id": "494a446d-028b-48ff-a7b4-6bbac4e8cfe2",
   "metadata": {},
   "source": [
    "# VARIABLES\n",
    "* Variables are temporary storage locations for data\n",
    "* They are temporary because they change\n",
    "* It is advised not to start variables with numbers\n",
    "* Variables are also case sensitive\n",
    "* Do not use predefined values as variables\n",
    "  \n",
    "### Variables storing strings"
   ]
  },
  {
   "cell_type": "code",
   "execution_count": 1,
   "id": "7eee650d-b5ed-46bf-a62f-aacff7f7c0fb",
   "metadata": {},
   "outputs": [],
   "source": [
    "a = \"Carol\""
   ]
  },
  {
   "cell_type": "code",
   "execution_count": 3,
   "id": "8e9c13fe-62d3-4e29-a135-bc66569f1b01",
   "metadata": {},
   "outputs": [
    {
     "data": {
      "text/plain": [
       "'Carol'"
      ]
     },
     "execution_count": 3,
     "metadata": {},
     "output_type": "execute_result"
    }
   ],
   "source": [
    "a"
   ]
  },
  {
   "cell_type": "code",
   "execution_count": 7,
   "id": "ce237880-f1cd-4e24-b550-3fc0fa165a89",
   "metadata": {},
   "outputs": [
    {
     "data": {
      "text/plain": [
       "'Carol'"
      ]
     },
     "execution_count": 7,
     "metadata": {},
     "output_type": "execute_result"
    }
   ],
   "source": [
    "a"
   ]
  },
  {
   "cell_type": "code",
   "execution_count": 15,
   "id": "f0183535-5f7d-4a8b-9ba2-b2c51153250f",
   "metadata": {},
   "outputs": [],
   "source": [
    "a = \"Kevin\""
   ]
  },
  {
   "cell_type": "code",
   "execution_count": 17,
   "id": "5d6279a5-351d-4ff3-8a6c-af3516e68522",
   "metadata": {},
   "outputs": [
    {
     "data": {
      "text/plain": [
       "'Kevin'"
      ]
     },
     "execution_count": 17,
     "metadata": {},
     "output_type": "execute_result"
    }
   ],
   "source": [
    "a"
   ]
  },
  {
   "cell_type": "code",
   "execution_count": 47,
   "id": "88a4021f-1c6c-4aac-9e0e-c9474dcfcdeb",
   "metadata": {},
   "outputs": [],
   "source": [
    "b = \"Nairobi\""
   ]
  },
  {
   "cell_type": "code",
   "execution_count": 49,
   "id": "5371efc3-474c-4738-b90d-3ff8bd7a77d8",
   "metadata": {},
   "outputs": [
    {
     "data": {
      "text/plain": [
       "'Nairobi'"
      ]
     },
     "execution_count": 49,
     "metadata": {},
     "output_type": "execute_result"
    }
   ],
   "source": [
    "b"
   ]
  },
  {
   "cell_type": "code",
   "execution_count": 51,
   "id": "61789a2d-f48e-4282-abea-b9d663fcb58d",
   "metadata": {
    "scrolled": true
   },
   "outputs": [
    {
     "data": {
      "text/plain": [
       "'KevinNairobi'"
      ]
     },
     "execution_count": 51,
     "metadata": {},
     "output_type": "execute_result"
    }
   ],
   "source": [
    "#Concatenation I\n",
    "a+b"
   ]
  },
  {
   "cell_type": "code",
   "execution_count": 55,
   "id": "33519b63-fe3d-4566-b253-6ee6a9fde395",
   "metadata": {},
   "outputs": [
    {
     "data": {
      "text/plain": [
       "'NairobiKevin'"
      ]
     },
     "execution_count": 55,
     "metadata": {},
     "output_type": "execute_result"
    }
   ],
   "source": [
    "#Concatenation II\n",
    "b+a"
   ]
  },
  {
   "cell_type": "markdown",
   "id": "99110bc9-de06-44d0-b8de-c21e64eff0ce",
   "metadata": {},
   "source": [
    "### Variables storing integers"
   ]
  },
  {
   "cell_type": "code",
   "execution_count": 37,
   "id": "b0ef2f80-8799-476a-9ca4-8d0892a4c06d",
   "metadata": {},
   "outputs": [],
   "source": [
    "x = 50"
   ]
  },
  {
   "cell_type": "code",
   "execution_count": 39,
   "id": "152f82e6-ef05-4c4b-922c-398313fb4527",
   "metadata": {},
   "outputs": [
    {
     "data": {
      "text/plain": [
       "50"
      ]
     },
     "execution_count": 39,
     "metadata": {},
     "output_type": "execute_result"
    }
   ],
   "source": [
    "x"
   ]
  },
  {
   "cell_type": "code",
   "execution_count": 41,
   "id": "4950ce3c-158a-4321-9589-efefd847a7a8",
   "metadata": {},
   "outputs": [],
   "source": [
    "y = 25"
   ]
  },
  {
   "cell_type": "code",
   "execution_count": 43,
   "id": "2274ae8a-fcc6-471d-b983-20ab4dcede0b",
   "metadata": {},
   "outputs": [
    {
     "data": {
      "text/plain": [
       "25"
      ]
     },
     "execution_count": 43,
     "metadata": {},
     "output_type": "execute_result"
    }
   ],
   "source": [
    "y"
   ]
  },
  {
   "cell_type": "code",
   "execution_count": 44,
   "id": "96143f87-83e1-45cc-b617-e36aab8f410c",
   "metadata": {},
   "outputs": [
    {
     "data": {
      "text/plain": [
       "75"
      ]
     },
     "execution_count": 44,
     "metadata": {},
     "output_type": "execute_result"
    }
   ],
   "source": [
    "#Variables can be used in mathematical operations based on what is stored in them\n",
    "x + y"
   ]
  },
  {
   "cell_type": "markdown",
   "id": "0bbd0acb-5e61-4219-803c-d8050f5532d1",
   "metadata": {},
   "source": [
    "### Variables storing floats"
   ]
  },
  {
   "cell_type": "code",
   "execution_count": 58,
   "id": "469b0391-5460-4918-b928-f85bf9093f67",
   "metadata": {},
   "outputs": [],
   "source": [
    "c = 30.6"
   ]
  },
  {
   "cell_type": "code",
   "execution_count": 60,
   "id": "4516b671-0149-4597-9d45-1ff821e120b7",
   "metadata": {},
   "outputs": [
    {
     "data": {
      "text/plain": [
       "30.6"
      ]
     },
     "execution_count": 60,
     "metadata": {},
     "output_type": "execute_result"
    }
   ],
   "source": [
    "c"
   ]
  },
  {
   "cell_type": "code",
   "execution_count": 62,
   "id": "b83cc018-aae5-496d-bbf3-d94d18971d3a",
   "metadata": {},
   "outputs": [],
   "source": [
    "d = 40.6"
   ]
  },
  {
   "cell_type": "code",
   "execution_count": 64,
   "id": "7f80b36c-de73-4bfc-8f76-5103d99bde7c",
   "metadata": {},
   "outputs": [
    {
     "data": {
      "text/plain": [
       "40.6"
      ]
     },
     "execution_count": 64,
     "metadata": {},
     "output_type": "execute_result"
    }
   ],
   "source": [
    "d"
   ]
  },
  {
   "cell_type": "code",
   "execution_count": 66,
   "id": "17b886ec-097c-4e54-8ee8-d386f2ca9a98",
   "metadata": {},
   "outputs": [
    {
     "data": {
      "text/plain": [
       "71.2"
      ]
     },
     "execution_count": 66,
     "metadata": {},
     "output_type": "execute_result"
    }
   ],
   "source": [
    "c+d"
   ]
  },
  {
   "cell_type": "code",
   "execution_count": 68,
   "id": "f85830f3-1425-403f-8826-7e4272c4489a",
   "metadata": {},
   "outputs": [
    {
     "data": {
      "text/plain": [
       "10.0"
      ]
     },
     "execution_count": 68,
     "metadata": {},
     "output_type": "execute_result"
    }
   ],
   "source": [
    "d-c"
   ]
  },
  {
   "cell_type": "code",
   "execution_count": 70,
   "id": "87c166e9-2365-498f-bcb3-7fd516d3237d",
   "metadata": {},
   "outputs": [
    {
     "data": {
      "text/plain": [
       "1242.3600000000001"
      ]
     },
     "execution_count": 70,
     "metadata": {},
     "output_type": "execute_result"
    }
   ],
   "source": [
    "c*d"
   ]
  },
  {
   "cell_type": "code",
   "execution_count": 72,
   "id": "c40190a8-5b82-4322-96c1-58ea774e827a",
   "metadata": {},
   "outputs": [
    {
     "data": {
      "text/plain": [
       "0.7536945812807881"
      ]
     },
     "execution_count": 72,
     "metadata": {},
     "output_type": "execute_result"
    }
   ],
   "source": [
    "c/d"
   ]
  },
  {
   "cell_type": "markdown",
   "id": "9ee1834d-ba90-4045-bc21-6d2208ee7ce6",
   "metadata": {},
   "source": [
    "#### Variables storing boolean"
   ]
  },
  {
   "cell_type": "code",
   "execution_count": 75,
   "id": "3cdb8a20-7436-4393-a42e-5197c0325cc3",
   "metadata": {},
   "outputs": [],
   "source": [
    "#Boolean True is equated to 1\n",
    "e = True"
   ]
  },
  {
   "cell_type": "code",
   "execution_count": 83,
   "id": "a718b723-1d02-427f-810c-379711bc0775",
   "metadata": {},
   "outputs": [
    {
     "data": {
      "text/plain": [
       "bool"
      ]
     },
     "execution_count": 83,
     "metadata": {},
     "output_type": "execute_result"
    }
   ],
   "source": [
    "type(e)"
   ]
  },
  {
   "cell_type": "code",
   "execution_count": 77,
   "id": "ea16a11c-2bc0-4d83-8e6e-088a64bbc6de",
   "metadata": {},
   "outputs": [],
   "source": [
    "#Boolean False is equated to 0\n",
    "f = False"
   ]
  },
  {
   "cell_type": "code",
   "execution_count": 85,
   "id": "5298e9be-c276-4dc4-95a0-6e105ff58211",
   "metadata": {},
   "outputs": [
    {
     "data": {
      "text/plain": [
       "bool"
      ]
     },
     "execution_count": 85,
     "metadata": {},
     "output_type": "execute_result"
    }
   ],
   "source": [
    "type(f)"
   ]
  },
  {
   "cell_type": "code",
   "execution_count": 79,
   "id": "914a8064-068b-43ab-a67e-bc4e9601aa09",
   "metadata": {},
   "outputs": [
    {
     "data": {
      "text/plain": [
       "1"
      ]
     },
     "execution_count": 79,
     "metadata": {},
     "output_type": "execute_result"
    }
   ],
   "source": [
    "e+f"
   ]
  },
  {
   "cell_type": "code",
   "execution_count": 81,
   "id": "f2870722-f4dd-4989-9825-3b11b8d2a6cc",
   "metadata": {},
   "outputs": [
    {
     "data": {
      "text/plain": [
       "2"
      ]
     },
     "execution_count": 81,
     "metadata": {},
     "output_type": "execute_result"
    }
   ],
   "source": [
    "e+e"
   ]
  },
  {
   "cell_type": "code",
   "execution_count": 87,
   "id": "e3c3bb36-6eba-4fdb-85f6-23cdc68562b4",
   "metadata": {},
   "outputs": [
    {
     "data": {
      "text/plain": [
       "0"
      ]
     },
     "execution_count": 87,
     "metadata": {},
     "output_type": "execute_result"
    }
   ],
   "source": [
    "f+f"
   ]
  },
  {
   "cell_type": "markdown",
   "id": "dfd34acd-4d8a-4e11-876e-fd5a4af2ce7b",
   "metadata": {
    "scrolled": true
   },
   "source": [
    "#### Proof that variables are case sensitive"
   ]
  },
  {
   "cell_type": "code",
   "execution_count": 93,
   "id": "95b86565-853a-45d0-a2fa-27206db2b180",
   "metadata": {},
   "outputs": [],
   "source": [
    "C = \"Carol\""
   ]
  },
  {
   "cell_type": "code",
   "execution_count": 95,
   "id": "34d0b3dd-5696-4ead-a76b-5ccaf3c69eaf",
   "metadata": {},
   "outputs": [],
   "source": [
    "c = \"Caroline\""
   ]
  },
  {
   "cell_type": "code",
   "execution_count": 97,
   "id": "8cd0609c-8e6d-446e-9ec1-097ba5013f91",
   "metadata": {},
   "outputs": [
    {
     "data": {
      "text/plain": [
       "'Caroline'"
      ]
     },
     "execution_count": 97,
     "metadata": {},
     "output_type": "execute_result"
    }
   ],
   "source": [
    "c"
   ]
  },
  {
   "cell_type": "code",
   "execution_count": 99,
   "id": "dc56ac66-bae9-4532-abd5-cbe675629862",
   "metadata": {},
   "outputs": [
    {
     "data": {
      "text/plain": [
       "'Carol'"
      ]
     },
     "execution_count": 99,
     "metadata": {},
     "output_type": "execute_result"
    }
   ],
   "source": [
    "C"
   ]
  },
  {
   "cell_type": "markdown",
   "id": "5bccd53d-664c-4f84-a891-f9960789e4eb",
   "metadata": {},
   "source": [
    "### Variable naming strategies\n",
    "* **Camel casing:** - Formed by mixing small letters and capital letters\n",
    "* **Snake casing** - Formed by mixing words with the underscore symbol"
   ]
  },
  {
   "cell_type": "code",
   "execution_count": 117,
   "id": "ed47476c-a6c5-4b72-b76d-576a83f2cce1",
   "metadata": {},
   "outputs": [],
   "source": [
    "#Camel casing\n",
    "NormalFlights = 5"
   ]
  },
  {
   "cell_type": "code",
   "execution_count": 109,
   "id": "02cd0fcc-9bef-47df-9d94-2cd969b910ac",
   "metadata": {},
   "outputs": [
    {
     "data": {
      "text/plain": [
       "5"
      ]
     },
     "execution_count": 109,
     "metadata": {},
     "output_type": "execute_result"
    }
   ],
   "source": [
    "NormalFlights"
   ]
  },
  {
   "cell_type": "code",
   "execution_count": 119,
   "id": "d05530da-1c68-48d5-a250-7293c7936a0c",
   "metadata": {},
   "outputs": [],
   "source": [
    "#Snake casing\n",
    "normal_flights = 6"
   ]
  },
  {
   "cell_type": "code",
   "execution_count": 114,
   "id": "8e8aa661-1a48-443c-aa43-a78a41fa2e47",
   "metadata": {},
   "outputs": [
    {
     "data": {
      "text/plain": [
       "6"
      ]
     },
     "execution_count": 114,
     "metadata": {},
     "output_type": "execute_result"
    }
   ],
   "source": [
    "normal_flights"
   ]
  },
  {
   "cell_type": "markdown",
   "id": "13f29a04-5a38-487c-895d-9abbc3ec8eb6",
   "metadata": {},
   "source": [
    "### Simultaneous variables to values assignment"
   ]
  },
  {
   "cell_type": "code",
   "execution_count": 122,
   "id": "92e0e6e3-928f-481f-9858-35bf1f9e678e",
   "metadata": {},
   "outputs": [],
   "source": [
    "k = \"Kevin\""
   ]
  },
  {
   "cell_type": "code",
   "execution_count": 124,
   "id": "46eb0711-d905-46e4-aa4f-ca66d0d2ee6c",
   "metadata": {},
   "outputs": [],
   "source": [
    "c = \"Carol\""
   ]
  },
  {
   "cell_type": "code",
   "execution_count": 126,
   "id": "11832092-a613-47eb-9a27-7ef1aabd7c20",
   "metadata": {},
   "outputs": [],
   "source": [
    "n = \"Nairobi\""
   ]
  },
  {
   "cell_type": "code",
   "execution_count": 145,
   "id": "5094d473-13f3-4586-bf64-35e14665c4e6",
   "metadata": {},
   "outputs": [],
   "source": [
    "k, c, n = \"Kevin\", \"Carol\", \"Nairobi\""
   ]
  },
  {
   "cell_type": "code",
   "execution_count": 130,
   "id": "297ced30-5d6d-452b-b0a9-3ef5e6daa6b4",
   "metadata": {},
   "outputs": [
    {
     "data": {
      "text/plain": [
       "'Kevin'"
      ]
     },
     "execution_count": 130,
     "metadata": {},
     "output_type": "execute_result"
    }
   ],
   "source": [
    "k"
   ]
  },
  {
   "cell_type": "code",
   "execution_count": 132,
   "id": "3b95ace8-4e56-4802-baf4-30a588ce3a10",
   "metadata": {},
   "outputs": [
    {
     "data": {
      "text/plain": [
       "'Carol'"
      ]
     },
     "execution_count": 132,
     "metadata": {},
     "output_type": "execute_result"
    }
   ],
   "source": [
    "c"
   ]
  },
  {
   "cell_type": "code",
   "execution_count": 134,
   "id": "03950519-8323-4eda-a310-344d93d0416c",
   "metadata": {},
   "outputs": [
    {
     "data": {
      "text/plain": [
       "'Nairobi'"
      ]
     },
     "execution_count": 134,
     "metadata": {},
     "output_type": "execute_result"
    }
   ],
   "source": [
    "n"
   ]
  },
  {
   "cell_type": "markdown",
   "id": "eacc3183-db1f-4b16-a9cd-7e50faf0f11c",
   "metadata": {},
   "source": [
    "### Simultaneous variables assignment to one value"
   ]
  },
  {
   "cell_type": "code",
   "execution_count": 168,
   "id": "b7b26e7d-a185-4992-847f-4aa188473458",
   "metadata": {},
   "outputs": [],
   "source": [
    "x = y = z = 30"
   ]
  },
  {
   "cell_type": "code",
   "execution_count": 150,
   "id": "1dec71ca-1f84-4adc-8d1e-509a1a5b84b7",
   "metadata": {},
   "outputs": [
    {
     "data": {
      "text/plain": [
       "30"
      ]
     },
     "execution_count": 150,
     "metadata": {},
     "output_type": "execute_result"
    }
   ],
   "source": [
    "x"
   ]
  },
  {
   "cell_type": "code",
   "execution_count": 152,
   "id": "4b9c99da-8cbe-4163-80d4-5193799eb65e",
   "metadata": {},
   "outputs": [
    {
     "data": {
      "text/plain": [
       "30"
      ]
     },
     "execution_count": 152,
     "metadata": {},
     "output_type": "execute_result"
    }
   ],
   "source": [
    "y"
   ]
  },
  {
   "cell_type": "code",
   "execution_count": 154,
   "id": "be279c65-dfcc-409b-82e6-8c934f987efe",
   "metadata": {},
   "outputs": [
    {
     "data": {
      "text/plain": [
       "30"
      ]
     },
     "execution_count": 154,
     "metadata": {},
     "output_type": "execute_result"
    }
   ],
   "source": [
    "z"
   ]
  },
  {
   "cell_type": "code",
   "execution_count": 172,
   "id": "855345b9-54a7-4164-87f9-f24366bf3cab",
   "metadata": {},
   "outputs": [],
   "source": [
    "#Deletes an existing variable and its value\n",
    "del x"
   ]
  },
  {
   "cell_type": "markdown",
   "id": "f5261f13-3277-4e39-8cd0-129253221123",
   "metadata": {},
   "source": [
    "### Checking data types for variables"
   ]
  },
  {
   "cell_type": "code",
   "execution_count": 176,
   "id": "18cb28f4-832e-48c8-8bc0-e6638439d19c",
   "metadata": {},
   "outputs": [
    {
     "data": {
      "text/plain": [
       "str"
      ]
     },
     "execution_count": 176,
     "metadata": {},
     "output_type": "execute_result"
    }
   ],
   "source": [
    "type(k)"
   ]
  },
  {
   "cell_type": "code",
   "execution_count": 178,
   "id": "30d541e7-9299-46b7-8553-75b8a230bfc5",
   "metadata": {},
   "outputs": [
    {
     "data": {
      "text/plain": [
       "'Kevin'"
      ]
     },
     "execution_count": 178,
     "metadata": {},
     "output_type": "execute_result"
    }
   ],
   "source": [
    "k"
   ]
  },
  {
   "cell_type": "code",
   "execution_count": 180,
   "id": "d8ae8ec4-ebd7-4250-a24d-567d8d9cd88a",
   "metadata": {},
   "outputs": [
    {
     "data": {
      "text/plain": [
       "int"
      ]
     },
     "execution_count": 180,
     "metadata": {},
     "output_type": "execute_result"
    }
   ],
   "source": [
    "type(y)"
   ]
  },
  {
   "cell_type": "code",
   "execution_count": 182,
   "id": "48bd7169-b3f4-4881-be38-e7f7bba88203",
   "metadata": {},
   "outputs": [
    {
     "data": {
      "text/plain": [
       "30"
      ]
     },
     "execution_count": 182,
     "metadata": {},
     "output_type": "execute_result"
    }
   ],
   "source": [
    "y"
   ]
  },
  {
   "cell_type": "code",
   "execution_count": 184,
   "id": "a076e032-2e7f-495b-a9f2-9d58c565ca63",
   "metadata": {},
   "outputs": [
    {
     "data": {
      "text/plain": [
       "float"
      ]
     },
     "execution_count": 184,
     "metadata": {},
     "output_type": "execute_result"
    }
   ],
   "source": [
    "type(d)"
   ]
  },
  {
   "cell_type": "code",
   "execution_count": 186,
   "id": "c2e9fe4d-6bb7-4ce5-8e12-b942d41f1dbd",
   "metadata": {},
   "outputs": [
    {
     "data": {
      "text/plain": [
       "40.6"
      ]
     },
     "execution_count": 186,
     "metadata": {},
     "output_type": "execute_result"
    }
   ],
   "source": [
    "d"
   ]
  },
  {
   "cell_type": "code",
   "execution_count": 188,
   "id": "2b116bd5-e56a-4350-a042-9b49e7335799",
   "metadata": {},
   "outputs": [
    {
     "data": {
      "text/plain": [
       "bool"
      ]
     },
     "execution_count": 188,
     "metadata": {},
     "output_type": "execute_result"
    }
   ],
   "source": [
    "type(f)"
   ]
  },
  {
   "cell_type": "code",
   "execution_count": 190,
   "id": "201cf25b-5f86-4e5b-9957-7782d78c2e97",
   "metadata": {},
   "outputs": [
    {
     "data": {
      "text/plain": [
       "False"
      ]
     },
     "execution_count": 190,
     "metadata": {},
     "output_type": "execute_result"
    }
   ],
   "source": [
    "f"
   ]
  },
  {
   "cell_type": "code",
   "execution_count": null,
   "id": "98be3f8a-9a00-4ce8-94be-83cd80398fd9",
   "metadata": {},
   "outputs": [],
   "source": []
  }
 ],
 "metadata": {
  "kernelspec": {
   "display_name": "Python [conda env:base] *",
   "language": "python",
   "name": "conda-base-py"
  },
  "language_info": {
   "codemirror_mode": {
    "name": "ipython",
    "version": 3
   },
   "file_extension": ".py",
   "mimetype": "text/x-python",
   "name": "python",
   "nbconvert_exporter": "python",
   "pygments_lexer": "ipython3",
   "version": "3.12.7"
  }
 },
 "nbformat": 4,
 "nbformat_minor": 5
}
