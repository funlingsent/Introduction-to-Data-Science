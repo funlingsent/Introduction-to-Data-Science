{
 "cells": [
  {
   "cell_type": "raw",
   "id": "387993a6",
   "metadata": {},
   "source": [
    "EXAMPLES OF FUNCTIONS\n",
    "len()\n",
    "sort()\n",
    "reverse()\n",
    "count()\n",
    "pop()\n",
    "sum()"
   ]
  },
  {
   "cell_type": "raw",
   "id": "f47002ea",
   "metadata": {},
   "source": [
    "def <function_name>(<parameter1>...):\n",
    "    <code>\n",
    "    return output"
   ]
  },
  {
   "cell_type": "code",
   "execution_count": 5,
   "id": "67b81823",
   "metadata": {},
   "outputs": [],
   "source": [
    "def username(name_of_user):\n",
    "    name_of_user = input('Please enter your name\\n')\n",
    "    return name_of_user"
   ]
  },
  {
   "cell_type": "code",
   "execution_count": 6,
   "id": "e2cbd273",
   "metadata": {},
   "outputs": [
    {
     "name": "stdout",
     "output_type": "stream",
     "text": [
      "Please enter your name\n",
      "Jane\n"
     ]
    },
    {
     "data": {
      "text/plain": [
       "'Jane'"
      ]
     },
     "execution_count": 6,
     "metadata": {},
     "output_type": "execute_result"
    }
   ],
   "source": [
    "username('Jane')"
   ]
  },
  {
   "cell_type": "code",
   "execution_count": 7,
   "id": "86dc5da9",
   "metadata": {},
   "outputs": [],
   "source": [
    "def addition(x, y):\n",
    "    z = x + y\n",
    "    return z"
   ]
  },
  {
   "cell_type": "code",
   "execution_count": 8,
   "id": "fe7fbac1",
   "metadata": {},
   "outputs": [
    {
     "data": {
      "text/plain": [
       "75"
      ]
     },
     "execution_count": 8,
     "metadata": {},
     "output_type": "execute_result"
    }
   ],
   "source": [
    "addition(30, 45)"
   ]
  },
  {
   "cell_type": "code",
   "execution_count": 9,
   "id": "8abf80fe",
   "metadata": {},
   "outputs": [],
   "source": [
    "def cuboid(length, width, height):\n",
    "    return length*width*height"
   ]
  },
  {
   "cell_type": "code",
   "execution_count": 10,
   "id": "47d1bb31",
   "metadata": {},
   "outputs": [
    {
     "data": {
      "text/plain": [
       "28"
      ]
     },
     "execution_count": 10,
     "metadata": {},
     "output_type": "execute_result"
    }
   ],
   "source": [
    "cuboid(2,7,2)"
   ]
  },
  {
   "cell_type": "code",
   "execution_count": 11,
   "id": "04ca8d68",
   "metadata": {},
   "outputs": [],
   "source": [
    "def greetings(username):\n",
    "    if username == 'Joyce':\n",
    "        print('Hello ' + username)\n",
    "    else:\n",
    "        print('Good evening')"
   ]
  },
  {
   "cell_type": "code",
   "execution_count": 13,
   "id": "1a86fefb",
   "metadata": {},
   "outputs": [
    {
     "name": "stdout",
     "output_type": "stream",
     "text": [
      "Good evening\n"
     ]
    }
   ],
   "source": [
    "greetings('Kevin')"
   ]
  },
  {
   "cell_type": "code",
   "execution_count": null,
   "id": "656bb85a",
   "metadata": {},
   "outputs": [],
   "source": []
  }
 ],
 "metadata": {
  "kernelspec": {
   "display_name": "Python 3 (ipykernel)",
   "language": "python",
   "name": "python3"
  },
  "language_info": {
   "codemirror_mode": {
    "name": "ipython",
    "version": 3
   },
   "file_extension": ".py",
   "mimetype": "text/x-python",
   "name": "python",
   "nbconvert_exporter": "python",
   "pygments_lexer": "ipython3",
   "version": "3.9.7"
  }
 },
 "nbformat": 4,
 "nbformat_minor": 5
}
