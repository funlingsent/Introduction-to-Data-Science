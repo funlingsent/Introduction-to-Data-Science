{
 "cells": [
  {
   "cell_type": "markdown",
   "id": "2b253d6e-7b02-4d20-9f96-40a96db1b610",
   "metadata": {},
   "source": [
    "# ARITHMETIC OPERATIONS\n",
    "### Mathematical symbols"
   ]
  },
  {
   "cell_type": "code",
   "execution_count": 11,
   "id": "7dac79c0-403b-4d83-a3d2-33439d33b79a",
   "metadata": {},
   "outputs": [],
   "source": [
    "x = 60\n",
    "y = 30"
   ]
  },
  {
   "cell_type": "code",
   "execution_count": 13,
   "id": "2846123f-340d-4eaf-94b0-7dffefc869ba",
   "metadata": {},
   "outputs": [
    {
     "data": {
      "text/plain": [
       "60"
      ]
     },
     "execution_count": 13,
     "metadata": {},
     "output_type": "execute_result"
    }
   ],
   "source": [
    "x"
   ]
  },
  {
   "cell_type": "code",
   "execution_count": 15,
   "id": "03c932eb-2436-45c4-8484-81537af20ac5",
   "metadata": {},
   "outputs": [
    {
     "data": {
      "text/plain": [
       "30"
      ]
     },
     "execution_count": 15,
     "metadata": {},
     "output_type": "execute_result"
    }
   ],
   "source": [
    "y"
   ]
  },
  {
   "cell_type": "code",
   "execution_count": 17,
   "id": "31d333bd-03ad-4e76-ae20-fcefd00dab91",
   "metadata": {},
   "outputs": [
    {
     "data": {
      "text/plain": [
       "90"
      ]
     },
     "execution_count": 17,
     "metadata": {},
     "output_type": "execute_result"
    }
   ],
   "source": [
    "#Addition\n",
    "x + y"
   ]
  },
  {
   "cell_type": "code",
   "execution_count": 19,
   "id": "723ae1f1-5e03-4495-be13-7c82f26f7ab4",
   "metadata": {},
   "outputs": [
    {
     "data": {
      "text/plain": [
       "30"
      ]
     },
     "execution_count": 19,
     "metadata": {},
     "output_type": "execute_result"
    }
   ],
   "source": [
    "#Subtraction\n",
    "x - y"
   ]
  },
  {
   "cell_type": "code",
   "execution_count": 21,
   "id": "9da5bbed-2883-4261-ac9a-219c48ec830e",
   "metadata": {},
   "outputs": [
    {
     "data": {
      "text/plain": [
       "2.0"
      ]
     },
     "execution_count": 21,
     "metadata": {},
     "output_type": "execute_result"
    }
   ],
   "source": [
    "#Division\n",
    "x / y"
   ]
  },
  {
   "cell_type": "code",
   "execution_count": 23,
   "id": "53681c89-18e8-4dbc-9590-54867d676063",
   "metadata": {},
   "outputs": [
    {
     "data": {
      "text/plain": [
       "1800"
      ]
     },
     "execution_count": 23,
     "metadata": {},
     "output_type": "execute_result"
    }
   ],
   "source": [
    "#Multiplication\n",
    "x * y"
   ]
  },
  {
   "cell_type": "code",
   "execution_count": 25,
   "id": "f5fdebaf-4e3b-4c0a-8468-5abeb1d5b549",
   "metadata": {},
   "outputs": [
    {
     "data": {
      "text/plain": [
       "9"
      ]
     },
     "execution_count": 25,
     "metadata": {},
     "output_type": "execute_result"
    }
   ],
   "source": [
    "#Power\n",
    "3**2"
   ]
  },
  {
   "cell_type": "code",
   "execution_count": 27,
   "id": "215b441c-3d38-458c-bb10-96cab19647a1",
   "metadata": {},
   "outputs": [
    {
     "data": {
      "text/plain": [
       "81"
      ]
     },
     "execution_count": 27,
     "metadata": {},
     "output_type": "execute_result"
    }
   ],
   "source": [
    "3**4"
   ]
  },
  {
   "cell_type": "code",
   "execution_count": 29,
   "id": "1bfe9ba9-e9f2-458c-b1ef-58c492e5bf54",
   "metadata": {},
   "outputs": [],
   "source": [
    "import math"
   ]
  },
  {
   "cell_type": "code",
   "execution_count": 31,
   "id": "1ff19988-7c2d-4f82-a512-dfc4f6a6d40d",
   "metadata": {},
   "outputs": [],
   "source": [
    "from math import sqrt"
   ]
  },
  {
   "cell_type": "code",
   "execution_count": 33,
   "id": "00b9c504-60c2-4089-a0b5-e9aa5562a271",
   "metadata": {},
   "outputs": [
    {
     "data": {
      "text/plain": [
       "9.0"
      ]
     },
     "execution_count": 33,
     "metadata": {},
     "output_type": "execute_result"
    }
   ],
   "source": [
    "sqrt(81)"
   ]
  },
  {
   "cell_type": "code",
   "execution_count": 49,
   "id": "af44a873-c600-4bb2-8574-c50c2866b35b",
   "metadata": {},
   "outputs": [],
   "source": [
    "#Modulus 17/5 = 3 rem 2\n",
    "a = 18\n",
    "b = 5"
   ]
  },
  {
   "cell_type": "code",
   "execution_count": 51,
   "id": "9ea64727-84ce-49aa-8dac-a43f2d42cc05",
   "metadata": {},
   "outputs": [
    {
     "data": {
      "text/plain": [
       "18"
      ]
     },
     "execution_count": 51,
     "metadata": {},
     "output_type": "execute_result"
    }
   ],
   "source": [
    "a"
   ]
  },
  {
   "cell_type": "code",
   "execution_count": 53,
   "id": "4267b05a-08d6-44da-ba8b-a44c814697ed",
   "metadata": {},
   "outputs": [
    {
     "data": {
      "text/plain": [
       "5"
      ]
     },
     "execution_count": 53,
     "metadata": {},
     "output_type": "execute_result"
    }
   ],
   "source": [
    "b"
   ]
  },
  {
   "cell_type": "code",
   "execution_count": 57,
   "id": "088d6973-64c5-429c-8a41-78c84e1821ba",
   "metadata": {},
   "outputs": [
    {
     "data": {
      "text/plain": [
       "3"
      ]
     },
     "execution_count": 57,
     "metadata": {},
     "output_type": "execute_result"
    }
   ],
   "source": [
    "#Modulus results are represented using the percentage symbol\n",
    "18 % 5"
   ]
  },
  {
   "cell_type": "code",
   "execution_count": 59,
   "id": "9bdfb059-d9ef-4834-b768-8fa2059092b6",
   "metadata": {},
   "outputs": [],
   "source": [
    "c = 6"
   ]
  },
  {
   "cell_type": "code",
   "execution_count": 63,
   "id": "8908ef30-6b05-4afc-886a-e47d1e96c506",
   "metadata": {},
   "outputs": [
    {
     "data": {
      "text/plain": [
       "0"
      ]
     },
     "execution_count": 63,
     "metadata": {},
     "output_type": "execute_result"
    }
   ],
   "source": [
    "a % c"
   ]
  },
  {
   "cell_type": "code",
   "execution_count": 65,
   "id": "fcbf1d5a-14a0-4331-bbbf-a54eff16abb4",
   "metadata": {},
   "outputs": [],
   "source": [
    "#Making a number absolute - The removal of a negative sign from a number\n",
    "d = -50"
   ]
  },
  {
   "cell_type": "code",
   "execution_count": 67,
   "id": "eb18a643-7cd7-4a8d-b341-bac8b974004a",
   "metadata": {},
   "outputs": [
    {
     "data": {
      "text/plain": [
       "-50"
      ]
     },
     "execution_count": 67,
     "metadata": {},
     "output_type": "execute_result"
    }
   ],
   "source": [
    "d"
   ]
  },
  {
   "cell_type": "code",
   "execution_count": 69,
   "id": "5ac59d99-c2ad-40ea-bd09-59a920a7a63c",
   "metadata": {},
   "outputs": [
    {
     "data": {
      "text/plain": [
       "int"
      ]
     },
     "execution_count": 69,
     "metadata": {},
     "output_type": "execute_result"
    }
   ],
   "source": [
    "type(d)"
   ]
  },
  {
   "cell_type": "code",
   "execution_count": 71,
   "id": "61f2ba77-77a2-4f35-9b2a-0a7d52afedad",
   "metadata": {},
   "outputs": [],
   "source": [
    "e = abs(d)"
   ]
  },
  {
   "cell_type": "code",
   "execution_count": 73,
   "id": "4102afbd-0b9f-45e2-a3a1-468a80f5b635",
   "metadata": {},
   "outputs": [
    {
     "data": {
      "text/plain": [
       "50"
      ]
     },
     "execution_count": 73,
     "metadata": {},
     "output_type": "execute_result"
    }
   ],
   "source": [
    "e"
   ]
  },
  {
   "cell_type": "code",
   "execution_count": 75,
   "id": "3dfe4520-d2b8-46aa-bf3e-2dfd1ae19c9e",
   "metadata": {},
   "outputs": [],
   "source": [
    "#Calculation of the area of a circle\n",
    "#area=pi*r**2\n",
    "radius = 10\n",
    "pi = 3.142"
   ]
  },
  {
   "cell_type": "code",
   "execution_count": 77,
   "id": "66cf9bbc-7d44-41c2-b0ef-037aeba6cb97",
   "metadata": {},
   "outputs": [],
   "source": [
    "area = pi*radius**2"
   ]
  },
  {
   "cell_type": "code",
   "execution_count": 81,
   "id": "7292e099-199e-4308-bc64-2d86c3a53fd4",
   "metadata": {},
   "outputs": [
    {
     "data": {
      "text/plain": [
       "314.2"
      ]
     },
     "execution_count": 81,
     "metadata": {},
     "output_type": "execute_result"
    }
   ],
   "source": [
    "area"
   ]
  },
  {
   "cell_type": "code",
   "execution_count": 83,
   "id": "89d0e5bf-a6c5-4247-b638-b264d14eaa85",
   "metadata": {},
   "outputs": [
    {
     "data": {
      "text/plain": [
       "314.2"
      ]
     },
     "execution_count": 83,
     "metadata": {},
     "output_type": "execute_result"
    }
   ],
   "source": [
    "3.142*100"
   ]
  },
  {
   "cell_type": "code",
   "execution_count": 87,
   "id": "73d6ad4d-b126-4260-9fd1-28514d157f6a",
   "metadata": {},
   "outputs": [
    {
     "name": "stdin",
     "output_type": "stream",
     "text": [
      "Please enter the diameter of the circle 20\n"
     ]
    }
   ],
   "source": [
    "#Calculation of the circumference of a circle\n",
    "#pie*d\n",
    "diameter = float(input(\"Please enter the diameter of the circle\"))"
   ]
  },
  {
   "cell_type": "code",
   "execution_count": 91,
   "id": "63941764-11fa-480f-a9ad-1b1d4b5d2a15",
   "metadata": {},
   "outputs": [],
   "source": [
    "pie = 3.142\n",
    "area = pie*diameter"
   ]
  },
  {
   "cell_type": "code",
   "execution_count": 93,
   "id": "c8a0ed85-9fd7-45fa-8335-84fabdc548b2",
   "metadata": {},
   "outputs": [
    {
     "data": {
      "text/plain": [
       "62.839999999999996"
      ]
     },
     "execution_count": 93,
     "metadata": {},
     "output_type": "execute_result"
    }
   ],
   "source": [
    "area"
   ]
  },
  {
   "cell_type": "code",
   "execution_count": 95,
   "id": "5cfbe0ba-967a-445d-8023-cc9da5aebafe",
   "metadata": {},
   "outputs": [
    {
     "data": {
      "text/plain": [
       "62.839999999999996"
      ]
     },
     "execution_count": 95,
     "metadata": {},
     "output_type": "execute_result"
    }
   ],
   "source": [
    "3.142*20"
   ]
  },
  {
   "cell_type": "code",
   "execution_count": null,
   "id": "dc195085-c712-4c4f-89cc-2deb214f5f3f",
   "metadata": {},
   "outputs": [],
   "source": []
  }
 ],
 "metadata": {
  "kernelspec": {
   "display_name": "Python [conda env:base] *",
   "language": "python",
   "name": "conda-base-py"
  },
  "language_info": {
   "codemirror_mode": {
    "name": "ipython",
    "version": 3
   },
   "file_extension": ".py",
   "mimetype": "text/x-python",
   "name": "python",
   "nbconvert_exporter": "python",
   "pygments_lexer": "ipython3",
   "version": "3.12.7"
  }
 },
 "nbformat": 4,
 "nbformat_minor": 5
}
