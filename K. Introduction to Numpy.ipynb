{
 "cells": [
  {
   "cell_type": "markdown",
   "id": "94846e23-c2c3-4be7-88f4-ccff750b9604",
   "metadata": {},
   "source": [
    "## INTRODUCTION TO NUMPY\n",
    "### Importation of Numpy"
   ]
  },
  {
   "cell_type": "code",
   "execution_count": 21,
   "id": "7dc33031-4978-480e-ab93-c120549731e4",
   "metadata": {},
   "outputs": [],
   "source": [
    "import numpy as np"
   ]
  },
  {
   "cell_type": "markdown",
   "id": "9626f5f3-0e88-414b-8c5b-c338d1a7d64b",
   "metadata": {},
   "source": [
    "### Creation of Arrays using Numpy"
   ]
  },
  {
   "cell_type": "code",
   "execution_count": 25,
   "id": "75232d51-f3b6-4b80-85ec-ae4771f084d3",
   "metadata": {},
   "outputs": [],
   "source": [
    "a = np.array([1, 2, 3, 4, 5])"
   ]
  },
  {
   "cell_type": "code",
   "execution_count": 27,
   "id": "827bd2f4-0233-49fb-b199-e0e6fc1206fd",
   "metadata": {},
   "outputs": [
    {
     "data": {
      "text/plain": [
       "array([1, 2, 3, 4, 5])"
      ]
     },
     "execution_count": 27,
     "metadata": {},
     "output_type": "execute_result"
    }
   ],
   "source": [
    "a"
   ]
  },
  {
   "cell_type": "code",
   "execution_count": 36,
   "id": "eff9c77c-e095-4e77-ae50-c8d898664ef3",
   "metadata": {},
   "outputs": [],
   "source": [
    "b = np.array(1)"
   ]
  },
  {
   "cell_type": "code",
   "execution_count": 38,
   "id": "19f14b73-df3c-4eb8-9214-e62c908d7790",
   "metadata": {},
   "outputs": [
    {
     "data": {
      "text/plain": [
       "array(1)"
      ]
     },
     "execution_count": 38,
     "metadata": {},
     "output_type": "execute_result"
    }
   ],
   "source": [
    "b"
   ]
  },
  {
   "cell_type": "code",
   "execution_count": 42,
   "id": "4bed450a-0488-462d-9422-6d2c2a3b0654",
   "metadata": {},
   "outputs": [],
   "source": [
    "c = np.array([1, True, \"Carol\", \"Nairobi\"])"
   ]
  },
  {
   "cell_type": "code",
   "execution_count": 44,
   "id": "c81bb9f0-dc1b-4c63-8db1-daca1aa7b291",
   "metadata": {},
   "outputs": [
    {
     "data": {
      "text/plain": [
       "array(['1', 'True', 'Carol', 'Nairobi'], dtype='<U11')"
      ]
     },
     "execution_count": 44,
     "metadata": {},
     "output_type": "execute_result"
    }
   ],
   "source": [
    "c"
   ]
  },
  {
   "cell_type": "markdown",
   "id": "9e4c47d6-acab-4a3d-9283-9448b134a189",
   "metadata": {},
   "source": [
    "### Dimensions in Arrays"
   ]
  },
  {
   "cell_type": "code",
   "execution_count": 49,
   "id": "1fdc1f3f-5cd3-48f6-bd58-f0d7d3274be8",
   "metadata": {},
   "outputs": [
    {
     "data": {
      "text/plain": [
       "1"
      ]
     },
     "execution_count": 49,
     "metadata": {},
     "output_type": "execute_result"
    }
   ],
   "source": [
    "a.ndim"
   ]
  },
  {
   "cell_type": "code",
   "execution_count": 51,
   "id": "fc0c0b18-ac10-496e-b707-24099017fc1d",
   "metadata": {},
   "outputs": [
    {
     "data": {
      "text/plain": [
       "2"
      ]
     },
     "execution_count": 51,
     "metadata": {},
     "output_type": "execute_result"
    }
   ],
   "source": [
    "d = np.array([[1,2], [3,4]]) \n",
    "d.ndim"
   ]
  },
  {
   "cell_type": "code",
   "execution_count": 65,
   "id": "59f3b21b-922a-45c0-b217-6718fb87cf40",
   "metadata": {},
   "outputs": [],
   "source": [
    "e = np.array([[[1, 2], [3, 4]], [[5,6], [7,8]]])"
   ]
  },
  {
   "cell_type": "code",
   "execution_count": 67,
   "id": "37e0414a-40ec-4334-8264-acf4e8bea24e",
   "metadata": {},
   "outputs": [
    {
     "data": {
      "text/plain": [
       "3"
      ]
     },
     "execution_count": 67,
     "metadata": {},
     "output_type": "execute_result"
    }
   ],
   "source": [
    "e.ndim"
   ]
  },
  {
   "cell_type": "markdown",
   "id": "cef448ff-62cc-48f3-b1a7-75a6b51fba16",
   "metadata": {},
   "source": [
    "### Creation of Special Arrays"
   ]
  },
  {
   "cell_type": "code",
   "execution_count": 70,
   "id": "e60d4c0c-5991-4b62-aeee-2a922a40348b",
   "metadata": {},
   "outputs": [],
   "source": [
    "f = np.zeros(6)"
   ]
  },
  {
   "cell_type": "code",
   "execution_count": 72,
   "id": "e4a0345a-2784-473d-9e4c-481240d5bd02",
   "metadata": {},
   "outputs": [
    {
     "data": {
      "text/plain": [
       "array([0., 0., 0., 0., 0., 0.])"
      ]
     },
     "execution_count": 72,
     "metadata": {},
     "output_type": "execute_result"
    }
   ],
   "source": [
    "f"
   ]
  },
  {
   "cell_type": "code",
   "execution_count": 74,
   "id": "cfb46d99-06e1-4099-b5fc-fbf206347596",
   "metadata": {},
   "outputs": [],
   "source": [
    "g = np.ones(6)"
   ]
  },
  {
   "cell_type": "code",
   "execution_count": 76,
   "id": "9c537152-7878-4b46-b536-d40535cdacd5",
   "metadata": {},
   "outputs": [
    {
     "data": {
      "text/plain": [
       "array([1., 1., 1., 1., 1., 1.])"
      ]
     },
     "execution_count": 76,
     "metadata": {},
     "output_type": "execute_result"
    }
   ],
   "source": [
    "g"
   ]
  },
  {
   "cell_type": "code",
   "execution_count": 93,
   "id": "68b56f32-3fe5-44c6-9694-7e139e34c1be",
   "metadata": {},
   "outputs": [],
   "source": [
    "h = np.zeros((3,3))"
   ]
  },
  {
   "cell_type": "code",
   "execution_count": 95,
   "id": "5cd33109-7077-4b50-81be-45126cb0edea",
   "metadata": {},
   "outputs": [
    {
     "data": {
      "text/plain": [
       "array([[0., 0., 0.],\n",
       "       [0., 0., 0.],\n",
       "       [0., 0., 0.]])"
      ]
     },
     "execution_count": 95,
     "metadata": {},
     "output_type": "execute_result"
    }
   ],
   "source": [
    "h"
   ]
  },
  {
   "cell_type": "code",
   "execution_count": 97,
   "id": "01a471da-db16-48a1-8430-695cbd5d6518",
   "metadata": {},
   "outputs": [],
   "source": [
    "i = np.ones((3,3))"
   ]
  },
  {
   "cell_type": "code",
   "execution_count": 99,
   "id": "5dc6119e-a527-4a45-85a9-207adc0f552c",
   "metadata": {},
   "outputs": [
    {
     "data": {
      "text/plain": [
       "array([[1., 1., 1.],\n",
       "       [1., 1., 1.],\n",
       "       [1., 1., 1.]])"
      ]
     },
     "execution_count": 99,
     "metadata": {},
     "output_type": "execute_result"
    }
   ],
   "source": [
    "i"
   ]
  },
  {
   "cell_type": "code",
   "execution_count": 107,
   "id": "1dac7c2a-de75-4d1c-a2a1-638ab79351d4",
   "metadata": {},
   "outputs": [],
   "source": [
    "j = np.full((4,4), 2)"
   ]
  },
  {
   "cell_type": "code",
   "execution_count": 109,
   "id": "e4819454-caed-4ea5-9c1b-f55fd94b3c59",
   "metadata": {},
   "outputs": [
    {
     "data": {
      "text/plain": [
       "array([[2, 2, 2, 2],\n",
       "       [2, 2, 2, 2],\n",
       "       [2, 2, 2, 2],\n",
       "       [2, 2, 2, 2]])"
      ]
     },
     "execution_count": 109,
     "metadata": {},
     "output_type": "execute_result"
    }
   ],
   "source": [
    "j"
   ]
  },
  {
   "cell_type": "code",
   "execution_count": 111,
   "id": "ab7faa22-58e3-45c0-bc32-909deb0cf9f6",
   "metadata": {},
   "outputs": [],
   "source": [
    "k = np.full((4,4), \"Carol\")"
   ]
  },
  {
   "cell_type": "code",
   "execution_count": 113,
   "id": "a92d268c-c14c-4469-93f0-bee897633c24",
   "metadata": {},
   "outputs": [
    {
     "data": {
      "text/plain": [
       "array([['Carol', 'Carol', 'Carol', 'Carol'],\n",
       "       ['Carol', 'Carol', 'Carol', 'Carol'],\n",
       "       ['Carol', 'Carol', 'Carol', 'Carol'],\n",
       "       ['Carol', 'Carol', 'Carol', 'Carol']], dtype='<U5')"
      ]
     },
     "execution_count": 113,
     "metadata": {},
     "output_type": "execute_result"
    }
   ],
   "source": [
    "k"
   ]
  },
  {
   "cell_type": "code",
   "execution_count": null,
   "id": "6f644d31-01f4-475b-8706-6124f2612a3f",
   "metadata": {},
   "outputs": [],
   "source": []
  }
 ],
 "metadata": {
  "kernelspec": {
   "display_name": "Python [conda env:base] *",
   "language": "python",
   "name": "conda-base-py"
  },
  "language_info": {
   "codemirror_mode": {
    "name": "ipython",
    "version": 3
   },
   "file_extension": ".py",
   "mimetype": "text/x-python",
   "name": "python",
   "nbconvert_exporter": "python",
   "pygments_lexer": "ipython3",
   "version": "3.12.7"
  }
 },
 "nbformat": 4,
 "nbformat_minor": 5
}
