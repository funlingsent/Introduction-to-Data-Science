{
 "cells": [
  {
   "cell_type": "markdown",
   "id": "e910c3b8-e2de-4189-8ff7-dbd264202b26",
   "metadata": {},
   "source": [
    "## LOGICAL OPERATIONS\n",
    "* This is an aspect of reasoning that assists in decision making or comparison eg. true or false"
   ]
  },
  {
   "cell_type": "code",
   "execution_count": 4,
   "id": "6c66b52f-9a26-4cd8-895f-0d717ba38cac",
   "metadata": {},
   "outputs": [],
   "source": [
    "x = 10"
   ]
  },
  {
   "cell_type": "code",
   "execution_count": 6,
   "id": "7ef84563-7d72-4b6a-8903-32dadcac608f",
   "metadata": {},
   "outputs": [
    {
     "data": {
      "text/plain": [
       "10"
      ]
     },
     "execution_count": 6,
     "metadata": {},
     "output_type": "execute_result"
    }
   ],
   "source": [
    "x"
   ]
  },
  {
   "cell_type": "markdown",
   "id": "1e8fd492-4248-4ff9-9f15-ac73b44ef2b9",
   "metadata": {},
   "source": [
    "### Comparison"
   ]
  },
  {
   "cell_type": "code",
   "execution_count": 9,
   "id": "dab28ac7-cf4a-49bc-be3a-c3be6b4cf135",
   "metadata": {},
   "outputs": [],
   "source": [
    "y = 20\n",
    "z = 20"
   ]
  },
  {
   "cell_type": "code",
   "execution_count": 11,
   "id": "97699dba-48af-4480-b656-ad44ac4c5531",
   "metadata": {},
   "outputs": [
    {
     "data": {
      "text/plain": [
       "10"
      ]
     },
     "execution_count": 11,
     "metadata": {},
     "output_type": "execute_result"
    }
   ],
   "source": [
    "x"
   ]
  },
  {
   "cell_type": "code",
   "execution_count": 13,
   "id": "2c3c4590-a132-463b-a915-dd220dd4d9b4",
   "metadata": {},
   "outputs": [
    {
     "data": {
      "text/plain": [
       "20"
      ]
     },
     "execution_count": 13,
     "metadata": {},
     "output_type": "execute_result"
    }
   ],
   "source": [
    "y"
   ]
  },
  {
   "cell_type": "code",
   "execution_count": 15,
   "id": "29fd5197-a1ed-452c-9eb7-2b5fd5b2e5ee",
   "metadata": {},
   "outputs": [
    {
     "data": {
      "text/plain": [
       "20"
      ]
     },
     "execution_count": 15,
     "metadata": {},
     "output_type": "execute_result"
    }
   ],
   "source": [
    "z"
   ]
  },
  {
   "cell_type": "code",
   "execution_count": 29,
   "id": "2b342736-4a74-4b07-99a3-cd55e224d28e",
   "metadata": {},
   "outputs": [
    {
     "data": {
      "text/plain": [
       "True"
      ]
     },
     "execution_count": 29,
     "metadata": {},
     "output_type": "execute_result"
    }
   ],
   "source": [
    "#Less than - <\n",
    "x < y"
   ]
  },
  {
   "cell_type": "code",
   "execution_count": 31,
   "id": "4b3f86d5-ceac-482c-9348-1e201850a8c3",
   "metadata": {},
   "outputs": [
    {
     "data": {
      "text/plain": [
       "(10, 20)"
      ]
     },
     "execution_count": 31,
     "metadata": {},
     "output_type": "execute_result"
    }
   ],
   "source": [
    "x,y"
   ]
  },
  {
   "cell_type": "code",
   "execution_count": 33,
   "id": "5a2b5926-deb0-492f-a32a-d37c0e9f71e9",
   "metadata": {},
   "outputs": [
    {
     "data": {
      "text/plain": [
       "True"
      ]
     },
     "execution_count": 33,
     "metadata": {},
     "output_type": "execute_result"
    }
   ],
   "source": [
    "#Greater than - >\n",
    "y > x"
   ]
  },
  {
   "cell_type": "code",
   "execution_count": 35,
   "id": "0843348a-6ed0-4bf9-8ea4-f39346f84c67",
   "metadata": {},
   "outputs": [
    {
     "data": {
      "text/plain": [
       "(10, 20)"
      ]
     },
     "execution_count": 35,
     "metadata": {},
     "output_type": "execute_result"
    }
   ],
   "source": [
    "x, y"
   ]
  },
  {
   "cell_type": "code",
   "execution_count": 37,
   "id": "c5c41d21-86ff-458e-8abf-f75d6a6da5b8",
   "metadata": {},
   "outputs": [
    {
     "data": {
      "text/plain": [
       "True"
      ]
     },
     "execution_count": 37,
     "metadata": {},
     "output_type": "execute_result"
    }
   ],
   "source": [
    "#Equal to - ==\n",
    "y == z"
   ]
  },
  {
   "cell_type": "code",
   "execution_count": 39,
   "id": "f2738b36-7a9c-4608-bfc4-57ec3f448617",
   "metadata": {
    "scrolled": true
   },
   "outputs": [
    {
     "data": {
      "text/plain": [
       "True"
      ]
     },
     "execution_count": 39,
     "metadata": {},
     "output_type": "execute_result"
    }
   ],
   "source": [
    "#Less than or equal to - <=\n",
    "x <= z"
   ]
  },
  {
   "cell_type": "code",
   "execution_count": 41,
   "id": "9dba9239-769b-4cfc-babf-f96f3d99b9a5",
   "metadata": {},
   "outputs": [
    {
     "data": {
      "text/plain": [
       "(10, 20)"
      ]
     },
     "execution_count": 41,
     "metadata": {},
     "output_type": "execute_result"
    }
   ],
   "source": [
    "x, z"
   ]
  },
  {
   "cell_type": "code",
   "execution_count": 25,
   "id": "d7267b1e-1b6c-49ef-8089-377e30332dfa",
   "metadata": {},
   "outputs": [],
   "source": [
    "#Greater than or equal to - >="
   ]
  },
  {
   "cell_type": "code",
   "execution_count": 43,
   "id": "83856343-acfc-4e6f-bb36-75fa8eb004ee",
   "metadata": {},
   "outputs": [
    {
     "data": {
      "text/plain": [
       "True"
      ]
     },
     "execution_count": 43,
     "metadata": {},
     "output_type": "execute_result"
    }
   ],
   "source": [
    "z >= x"
   ]
  },
  {
   "cell_type": "markdown",
   "id": "295d6ca4-7c6b-4796-9e7f-147d95ce49d7",
   "metadata": {},
   "source": [
    "### Logic"
   ]
  },
  {
   "cell_type": "code",
   "execution_count": 46,
   "id": "f291eaf3-b398-4bfe-ac73-71b66d136d1c",
   "metadata": {},
   "outputs": [],
   "source": [
    "#Greater than or equal (OPTION) - Either of the two need to be true for the whole statement to be true\n",
    "#In statement number 1, if both of them are true, everything is also true\n",
    "#In statement number 1, if none of them are true, everything is false\n",
    "#Greater than and equal to (COMPULSORY)  - Both of the two need to be true for the whole statement to be true\n",
    "#In statement number 2, if one of them is not true, the whole statement is false\n",
    "#In statement number 2, if none of them are true, everything is false"
   ]
  },
  {
   "cell_type": "code",
   "execution_count": 48,
   "id": "223b3539-16d9-45d0-a643-c6498d4198f7",
   "metadata": {},
   "outputs": [
    {
     "data": {
      "text/plain": [
       "10"
      ]
     },
     "execution_count": 48,
     "metadata": {},
     "output_type": "execute_result"
    }
   ],
   "source": [
    "x"
   ]
  },
  {
   "cell_type": "code",
   "execution_count": 52,
   "id": "64e83295-82f5-45c4-94f2-bca2267673f7",
   "metadata": {},
   "outputs": [
    {
     "data": {
      "text/plain": [
       "True"
      ]
     },
     "execution_count": 52,
     "metadata": {},
     "output_type": "execute_result"
    }
   ],
   "source": [
    "#Both are true with AND\n",
    "x < 20 and x > 5"
   ]
  },
  {
   "cell_type": "code",
   "execution_count": 54,
   "id": "90b686f1-8903-4237-9f4a-d9ac23116aad",
   "metadata": {},
   "outputs": [
    {
     "data": {
      "text/plain": [
       "False"
      ]
     },
     "execution_count": 54,
     "metadata": {},
     "output_type": "execute_result"
    }
   ],
   "source": [
    "#One is true with AND\n",
    "x < 20 and x > 15"
   ]
  },
  {
   "cell_type": "code",
   "execution_count": 56,
   "id": "47f00caa-cf35-41c3-8c9c-4e1bed528662",
   "metadata": {},
   "outputs": [
    {
     "data": {
      "text/plain": [
       "True"
      ]
     },
     "execution_count": 56,
     "metadata": {},
     "output_type": "execute_result"
    }
   ],
   "source": [
    "#Both are true with OR\n",
    "x < 20 or x > 5"
   ]
  },
  {
   "cell_type": "code",
   "execution_count": 60,
   "id": "c6100eb7-46ce-498a-aa8d-cbc39bd97c38",
   "metadata": {},
   "outputs": [
    {
     "data": {
      "text/plain": [
       "True"
      ]
     },
     "execution_count": 60,
     "metadata": {},
     "output_type": "execute_result"
    }
   ],
   "source": [
    "#One is true with OR\n",
    "x < 20 or x > 15"
   ]
  },
  {
   "cell_type": "code",
   "execution_count": 62,
   "id": "956a971e-a4d3-416b-835b-2232d1044b77",
   "metadata": {},
   "outputs": [
    {
     "data": {
      "text/plain": [
       "False"
      ]
     },
     "execution_count": 62,
     "metadata": {},
     "output_type": "execute_result"
    }
   ],
   "source": [
    "#Both are false with AND\n",
    "x < 5 and x > 20"
   ]
  },
  {
   "cell_type": "code",
   "execution_count": 64,
   "id": "1151648a-c86f-4474-b3df-9e663de44940",
   "metadata": {},
   "outputs": [
    {
     "data": {
      "text/plain": [
       "False"
      ]
     },
     "execution_count": 64,
     "metadata": {},
     "output_type": "execute_result"
    }
   ],
   "source": [
    "#Both are false with OR\n",
    "x < 5 or x > 20"
   ]
  },
  {
   "cell_type": "code",
   "execution_count": null,
   "id": "01854e7f-d604-410e-aef9-5b52d8d1ca5f",
   "metadata": {},
   "outputs": [],
   "source": []
  }
 ],
 "metadata": {
  "kernelspec": {
   "display_name": "Python [conda env:base] *",
   "language": "python",
   "name": "conda-base-py"
  },
  "language_info": {
   "codemirror_mode": {
    "name": "ipython",
    "version": 3
   },
   "file_extension": ".py",
   "mimetype": "text/x-python",
   "name": "python",
   "nbconvert_exporter": "python",
   "pygments_lexer": "ipython3",
   "version": "3.12.7"
  }
 },
 "nbformat": 4,
 "nbformat_minor": 5
}
