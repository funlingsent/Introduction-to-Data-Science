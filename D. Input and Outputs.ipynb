{
 "cells": [
  {
   "cell_type": "markdown",
   "id": "a77e9ded-1cea-4372-a9de-c3bc08bc8567",
   "metadata": {},
   "source": [
    "## INPUTS AND OUTPUTS IN PYTHON\n",
    "* **Inputs** - Data sent to a program for specific operation(s)\n",
    "* **Processing** - The transformation of an input to an output according to the instructions given\n",
    "* **Output** - The results given to a user after processing is done according to the given instructions"
   ]
  },
  {
   "cell_type": "markdown",
   "id": "4c17bd56-c72d-444e-926c-90daebc1bbb2",
   "metadata": {},
   "source": [
    "### Taking basic input"
   ]
  },
  {
   "cell_type": "code",
   "execution_count": 9,
   "id": "c921192c-ad6d-44f6-b298-ad0b37beb137",
   "metadata": {},
   "outputs": [
    {
     "name": "stdin",
     "output_type": "stream",
     "text": [
      "Please enter your name Carol\n"
     ]
    }
   ],
   "source": [
    "name = input(\"Please enter your name\")"
   ]
  },
  {
   "cell_type": "code",
   "execution_count": 11,
   "id": "54e5e290-dc21-453d-8de6-a1c83490f99b",
   "metadata": {},
   "outputs": [
    {
     "data": {
      "text/plain": [
       "'Carol'"
      ]
     },
     "execution_count": 11,
     "metadata": {},
     "output_type": "execute_result"
    }
   ],
   "source": [
    "#Variables are temporary storage locations\n",
    "name"
   ]
  },
  {
   "cell_type": "code",
   "execution_count": 13,
   "id": "33b6c006-9667-45b3-9215-c1f11d576763",
   "metadata": {},
   "outputs": [
    {
     "name": "stdin",
     "output_type": "stream",
     "text": [
      "Where do you live? Nairobi\n"
     ]
    }
   ],
   "source": [
    "city = input(\"Where do you live?\")"
   ]
  },
  {
   "cell_type": "code",
   "execution_count": 15,
   "id": "92101bd1-6f8b-4d8c-be26-6bdca5468c90",
   "metadata": {},
   "outputs": [
    {
     "data": {
      "text/plain": [
       "'Nairobi'"
      ]
     },
     "execution_count": 15,
     "metadata": {},
     "output_type": "execute_result"
    }
   ],
   "source": [
    "city"
   ]
  },
  {
   "cell_type": "markdown",
   "id": "d38f1650-cfb1-4f6a-9a20-8b4bb3e20b91",
   "metadata": {},
   "source": [
    "### Taking input based on data types\n",
    "#### Strings"
   ]
  },
  {
   "cell_type": "code",
   "execution_count": 28,
   "id": "388ad260-58a5-45f0-a95d-371f156f0544",
   "metadata": {},
   "outputs": [
    {
     "name": "stdin",
     "output_type": "stream",
     "text": [
      "What is your favourite game? Chess\n"
     ]
    }
   ],
   "source": [
    "game = str(input(\"What is your favourite game?\"))"
   ]
  },
  {
   "cell_type": "code",
   "execution_count": 30,
   "id": "88d0f925-136a-4bf3-8958-1814a4fbf5bc",
   "metadata": {},
   "outputs": [
    {
     "data": {
      "text/plain": [
       "'Chess'"
      ]
     },
     "execution_count": 30,
     "metadata": {},
     "output_type": "execute_result"
    }
   ],
   "source": [
    "game"
   ]
  },
  {
   "cell_type": "code",
   "execution_count": 34,
   "id": "19971510-7de3-447a-9c4b-b939e1774b5e",
   "metadata": {},
   "outputs": [
    {
     "data": {
      "text/plain": [
       "str"
      ]
     },
     "execution_count": 34,
     "metadata": {},
     "output_type": "execute_result"
    }
   ],
   "source": [
    "type(game)"
   ]
  },
  {
   "cell_type": "markdown",
   "id": "3a9af47e-9581-45e0-b0d2-06903d9a3149",
   "metadata": {},
   "source": [
    "#### Floats"
   ]
  },
  {
   "cell_type": "code",
   "execution_count": 43,
   "id": "3a296451-231b-4960-a459-46f7ecb6f0b5",
   "metadata": {},
   "outputs": [
    {
     "name": "stdin",
     "output_type": "stream",
     "text": [
      "What is the patient's temperature? 32\n"
     ]
    }
   ],
   "source": [
    "temp = float(input(\"What is the patient's temperature?\"))"
   ]
  },
  {
   "cell_type": "code",
   "execution_count": 45,
   "id": "0287124f-0871-4f1b-af33-7a56eac1244e",
   "metadata": {},
   "outputs": [
    {
     "data": {
      "text/plain": [
       "float"
      ]
     },
     "execution_count": 45,
     "metadata": {},
     "output_type": "execute_result"
    }
   ],
   "source": [
    "type(temp)"
   ]
  },
  {
   "cell_type": "code",
   "execution_count": 47,
   "id": "efee6d3c-80d5-43f4-ac00-4f4f2e69c2df",
   "metadata": {},
   "outputs": [
    {
     "data": {
      "text/plain": [
       "32.0"
      ]
     },
     "execution_count": 47,
     "metadata": {},
     "output_type": "execute_result"
    }
   ],
   "source": [
    "temp"
   ]
  },
  {
   "cell_type": "markdown",
   "id": "5d4f146a-5556-4d26-aaac-31fe51e1ca07",
   "metadata": {},
   "source": [
    "### Integers"
   ]
  },
  {
   "cell_type": "code",
   "execution_count": 63,
   "id": "2606176f-6a01-4e27-9cf1-f96d7d1be61f",
   "metadata": {},
   "outputs": [
    {
     "name": "stdin",
     "output_type": "stream",
     "text": [
      "How many bananas did you buy? 10\n"
     ]
    }
   ],
   "source": [
    "#Numbers - 1, 2.5...\n",
    "#Integers - 1,2,3,4,5,6...\n",
    "#Floats - 1.5, 2.5 ,3.5...\n",
    "#Hexadecimal(16), decimal(10), octal(8), binary(2)\n",
    "count = int(input(\"How many bananas did you buy?\"))"
   ]
  },
  {
   "cell_type": "code",
   "execution_count": 65,
   "id": "5c581c3d-b062-4551-bb26-b0840bbc89c5",
   "metadata": {},
   "outputs": [
    {
     "data": {
      "text/plain": [
       "10"
      ]
     },
     "execution_count": 65,
     "metadata": {},
     "output_type": "execute_result"
    }
   ],
   "source": [
    "count"
   ]
  },
  {
   "cell_type": "markdown",
   "id": "1415e9ca-0383-4881-8a25-45f832dca96b",
   "metadata": {},
   "source": [
    "#### Boolean"
   ]
  },
  {
   "cell_type": "code",
   "execution_count": 85,
   "id": "ea75766f-7ac3-4778-82e1-493d09663f70",
   "metadata": {},
   "outputs": [
    {
     "name": "stdin",
     "output_type": "stream",
     "text": [
      "Please enter any boolean of your choice. True\n"
     ]
    }
   ],
   "source": [
    "b = bool(input(\"Please enter any boolean of your choice.\"))"
   ]
  },
  {
   "cell_type": "code",
   "execution_count": 87,
   "id": "20ee275a-e561-49bd-a2e0-d12ed712a21d",
   "metadata": {
    "scrolled": true
   },
   "outputs": [
    {
     "data": {
      "text/plain": [
       "True"
      ]
     },
     "execution_count": 87,
     "metadata": {},
     "output_type": "execute_result"
    }
   ],
   "source": [
    "b"
   ]
  },
  {
   "cell_type": "code",
   "execution_count": 89,
   "id": "c9b06b75-eb6d-4f3c-8ea5-86acf38f3e78",
   "metadata": {},
   "outputs": [
    {
     "data": {
      "text/plain": [
       "bool"
      ]
     },
     "execution_count": 89,
     "metadata": {},
     "output_type": "execute_result"
    }
   ],
   "source": [
    "type(b)"
   ]
  },
  {
   "cell_type": "markdown",
   "id": "7f624db4-63d3-4047-83a3-0f708dd14c97",
   "metadata": {},
   "source": [
    "### Giving basic output"
   ]
  },
  {
   "cell_type": "code",
   "execution_count": 96,
   "id": "c6cd70bc-48d1-4609-ba00-755edf7c2d46",
   "metadata": {},
   "outputs": [
    {
     "name": "stdout",
     "output_type": "stream",
     "text": [
      "This is an output\n"
     ]
    }
   ],
   "source": [
    "print(\"This is an output\")"
   ]
  },
  {
   "cell_type": "code",
   "execution_count": 98,
   "id": "d1f6cb68-19a5-4aa0-b326-0f8e07c106bb",
   "metadata": {},
   "outputs": [
    {
     "name": "stdout",
     "output_type": "stream",
     "text": [
      "Outputs can be given in single or double quotes\n"
     ]
    }
   ],
   "source": [
    "print('Outputs can be given in single or double quotes')"
   ]
  },
  {
   "cell_type": "markdown",
   "id": "6fddcdf8-913e-405a-9665-869b8d9789b4",
   "metadata": {},
   "source": [
    "### Concatenation\n",
    "* This is joining two or more items together"
   ]
  },
  {
   "cell_type": "code",
   "execution_count": 92,
   "id": "0b946d42-ae73-43fb-976c-48934816bbd8",
   "metadata": {},
   "outputs": [
    {
     "data": {
      "text/plain": [
       "32.0"
      ]
     },
     "execution_count": 92,
     "metadata": {},
     "output_type": "execute_result"
    }
   ],
   "source": [
    "temp"
   ]
  },
  {
   "cell_type": "markdown",
   "id": "3328ca44-0184-410b-a2d4-2076ff045a41",
   "metadata": {},
   "source": [
    "##### Example 1"
   ]
  },
  {
   "cell_type": "code",
   "execution_count": 100,
   "id": "98b68e6e-06e5-431d-b922-69c7e80e265d",
   "metadata": {},
   "outputs": [
    {
     "name": "stdout",
     "output_type": "stream",
     "text": [
      "My temperature is 32.0 degrees\n"
     ]
    }
   ],
   "source": [
    "#Without concatenation\n",
    "print(\"My temperature is 32.0 degrees\")"
   ]
  },
  {
   "cell_type": "code",
   "execution_count": 110,
   "id": "f2d5b086-21dd-4f73-abfc-bbd71d74607f",
   "metadata": {},
   "outputs": [
    {
     "name": "stdout",
     "output_type": "stream",
     "text": [
      "My temperature is 32.0\n"
     ]
    }
   ],
   "source": [
    "#With concatenation\n",
    "print(\"My temperature is \" + str(temp))"
   ]
  },
  {
   "cell_type": "code",
   "execution_count": 104,
   "id": "8cf6820c-1229-4319-949e-c159b733253b",
   "metadata": {},
   "outputs": [],
   "source": [
    "x = str(temp)"
   ]
  },
  {
   "cell_type": "code",
   "execution_count": 106,
   "id": "818267e7-1159-4c34-a28f-6370d74446ef",
   "metadata": {},
   "outputs": [
    {
     "data": {
      "text/plain": [
       "str"
      ]
     },
     "execution_count": 106,
     "metadata": {},
     "output_type": "execute_result"
    }
   ],
   "source": [
    "type(x)"
   ]
  },
  {
   "cell_type": "code",
   "execution_count": 108,
   "id": "fe43cab3-7e40-4a7c-9cf5-ad90bab7cacb",
   "metadata": {
    "scrolled": true
   },
   "outputs": [
    {
     "data": {
      "text/plain": [
       "'32.0'"
      ]
     },
     "execution_count": 108,
     "metadata": {},
     "output_type": "execute_result"
    }
   ],
   "source": [
    "x"
   ]
  },
  {
   "cell_type": "markdown",
   "id": "966a9e71-6dc5-474d-9a1c-983ed45c4727",
   "metadata": {},
   "source": [
    "##### Example 2"
   ]
  },
  {
   "cell_type": "code",
   "execution_count": 112,
   "id": "9e9039cb-9f50-4f5c-81db-f1cd65ec9f10",
   "metadata": {},
   "outputs": [
    {
     "data": {
      "text/plain": [
       "10"
      ]
     },
     "execution_count": 112,
     "metadata": {},
     "output_type": "execute_result"
    }
   ],
   "source": [
    "count"
   ]
  },
  {
   "cell_type": "code",
   "execution_count": 114,
   "id": "a004d8d9-e0d8-4ee8-9122-b7e376cb37b4",
   "metadata": {},
   "outputs": [
    {
     "data": {
      "text/plain": [
       "int"
      ]
     },
     "execution_count": 114,
     "metadata": {},
     "output_type": "execute_result"
    }
   ],
   "source": [
    "type(count)"
   ]
  },
  {
   "cell_type": "code",
   "execution_count": 120,
   "id": "95c3c3d8-f921-47af-b461-720d1e155ec6",
   "metadata": {},
   "outputs": [
    {
     "name": "stdout",
     "output_type": "stream",
     "text": [
      "My bananas are ten\n"
     ]
    }
   ],
   "source": [
    "print(\"My bananas are ten\")"
   ]
  },
  {
   "cell_type": "code",
   "execution_count": 126,
   "id": "dd196e92-d352-4e19-b614-842f3c82e4de",
   "metadata": {},
   "outputs": [
    {
     "name": "stdout",
     "output_type": "stream",
     "text": [
      "My bananas are 10\n"
     ]
    }
   ],
   "source": [
    "print(\"My bananas are \" + str(count))"
   ]
  },
  {
   "cell_type": "markdown",
   "id": "1896adac-69da-41a4-aa03-2ad1a5f78f38",
   "metadata": {},
   "source": [
    "##### Example 3\n",
    "###### Doing several concatenations"
   ]
  },
  {
   "cell_type": "code",
   "execution_count": 131,
   "id": "a895ee8a-f4f9-4405-b030-e73cad6c640e",
   "metadata": {},
   "outputs": [
    {
     "name": "stdout",
     "output_type": "stream",
     "text": [
      "I have 10 bananas\n"
     ]
    }
   ],
   "source": [
    "print(\"I have \" + str(count) + \" bananas\")"
   ]
  },
  {
   "cell_type": "markdown",
   "id": "9f145e12-8b25-486e-975f-22ad8a3708d8",
   "metadata": {},
   "source": [
    "##### Example 4\n",
    "###### Method 2 for concatenation"
   ]
  },
  {
   "cell_type": "code",
   "execution_count": 135,
   "id": "dd2710e2-30b0-4039-84b0-dcc7310d8507",
   "metadata": {},
   "outputs": [],
   "source": [
    "name = \"Joan\"\n",
    "age = 36"
   ]
  },
  {
   "cell_type": "code",
   "execution_count": 137,
   "id": "3fbccd96-2a70-46a8-86ef-193acc4d95a0",
   "metadata": {},
   "outputs": [
    {
     "data": {
      "text/plain": [
       "'Joan'"
      ]
     },
     "execution_count": 137,
     "metadata": {},
     "output_type": "execute_result"
    }
   ],
   "source": [
    "name"
   ]
  },
  {
   "cell_type": "code",
   "execution_count": 141,
   "id": "03314606-bb33-4e21-9396-19ae2cffcec9",
   "metadata": {},
   "outputs": [
    {
     "data": {
      "text/plain": [
       "36"
      ]
     },
     "execution_count": 141,
     "metadata": {},
     "output_type": "execute_result"
    }
   ],
   "source": [
    "age"
   ]
  },
  {
   "cell_type": "code",
   "execution_count": 143,
   "id": "f9289a15-347f-42c1-a327-262705cd910f",
   "metadata": {},
   "outputs": [
    {
     "name": "stdout",
     "output_type": "stream",
     "text": [
      "My name is  Joan and I am 36 years old\n"
     ]
    }
   ],
   "source": [
    "print(f\"My name is  {name} and I am {age} years old\")"
   ]
  },
  {
   "cell_type": "code",
   "execution_count": 147,
   "id": "ef53cc9e-19b0-42f3-a38f-32fd5ab4dd63",
   "metadata": {},
   "outputs": [
    {
     "data": {
      "text/plain": [
       "set"
      ]
     },
     "execution_count": 147,
     "metadata": {},
     "output_type": "execute_result"
    }
   ],
   "source": [
    "#Set, tuples, dictionaries, lists, arrays\n",
    "type({age})"
   ]
  },
  {
   "cell_type": "code",
   "execution_count": 149,
   "id": "82090ebf-0a18-43fc-87fc-0311e5248291",
   "metadata": {},
   "outputs": [
    {
     "data": {
      "text/plain": [
       "set"
      ]
     },
     "execution_count": 149,
     "metadata": {},
     "output_type": "execute_result"
    }
   ],
   "source": [
    "type({name})"
   ]
  },
  {
   "cell_type": "markdown",
   "id": "666741e7-42a0-492e-a5c9-4f5895eea53a",
   "metadata": {},
   "source": [
    "##### Example 5\n",
    "###### Concatenation using format"
   ]
  },
  {
   "cell_type": "code",
   "execution_count": 156,
   "id": "03714933-1c29-4c05-a804-048b53abfc82",
   "metadata": {},
   "outputs": [
    {
     "data": {
      "text/plain": [
       "'Joan'"
      ]
     },
     "execution_count": 156,
     "metadata": {},
     "output_type": "execute_result"
    }
   ],
   "source": [
    "name"
   ]
  },
  {
   "cell_type": "code",
   "execution_count": 158,
   "id": "11b28d6f-1f16-4642-83cf-2f963ab109b0",
   "metadata": {},
   "outputs": [
    {
     "data": {
      "text/plain": [
       "36"
      ]
     },
     "execution_count": 158,
     "metadata": {},
     "output_type": "execute_result"
    }
   ],
   "source": [
    "age"
   ]
  },
  {
   "cell_type": "code",
   "execution_count": 162,
   "id": "98c0286b-8dad-4108-9bee-48f0a5cec62d",
   "metadata": {},
   "outputs": [
    {
     "name": "stdout",
     "output_type": "stream",
     "text": [
      "My name is  Joan and I am 36 years old\n"
     ]
    }
   ],
   "source": [
    "print(\"My name is  {} and I am {} years old\".format(name, age))"
   ]
  },
  {
   "cell_type": "code",
   "execution_count": 168,
   "id": "df810899-e242-47f8-8588-e3368cd6da82",
   "metadata": {},
   "outputs": [],
   "source": [
    "x = y = z = 10"
   ]
  },
  {
   "cell_type": "code",
   "execution_count": 170,
   "id": "3b785681-8a6b-4d7c-a5b2-f7a6dcb84310",
   "metadata": {},
   "outputs": [
    {
     "data": {
      "text/plain": [
       "10"
      ]
     },
     "execution_count": 170,
     "metadata": {},
     "output_type": "execute_result"
    }
   ],
   "source": [
    "x"
   ]
  },
  {
   "cell_type": "code",
   "execution_count": 172,
   "id": "e84e7786-05c3-4aed-9b77-26e84f3763dd",
   "metadata": {},
   "outputs": [
    {
     "data": {
      "text/plain": [
       "10"
      ]
     },
     "execution_count": 172,
     "metadata": {},
     "output_type": "execute_result"
    }
   ],
   "source": [
    "y"
   ]
  },
  {
   "cell_type": "code",
   "execution_count": 174,
   "id": "43c4f05e-41e1-44a6-91a5-6b08f9f4898f",
   "metadata": {},
   "outputs": [
    {
     "data": {
      "text/plain": [
       "10"
      ]
     },
     "execution_count": 174,
     "metadata": {},
     "output_type": "execute_result"
    }
   ],
   "source": [
    "z"
   ]
  },
  {
   "cell_type": "code",
   "execution_count": 233,
   "id": "5f0af1d1-a86f-4f9a-81ad-48fbaf86c1ca",
   "metadata": {},
   "outputs": [
    {
     "name": "stdin",
     "output_type": "stream",
     "text": [
      "Please enter two numbers\n",
      " 45 23\n"
     ]
    }
   ],
   "source": [
    "x, y = input(\"Please enter two numbers\\n\").split()"
   ]
  },
  {
   "cell_type": "code",
   "execution_count": 235,
   "id": "fbbe98d5-283b-43df-9ea8-743b950d0dfa",
   "metadata": {},
   "outputs": [
    {
     "data": {
      "text/plain": [
       "'45'"
      ]
     },
     "execution_count": 235,
     "metadata": {},
     "output_type": "execute_result"
    }
   ],
   "source": [
    "x"
   ]
  },
  {
   "cell_type": "code",
   "execution_count": 237,
   "id": "1997fa19-02a9-45f2-8440-7fae2d30ad1e",
   "metadata": {},
   "outputs": [
    {
     "data": {
      "text/plain": [
       "'23'"
      ]
     },
     "execution_count": 237,
     "metadata": {},
     "output_type": "execute_result"
    }
   ],
   "source": [
    "y"
   ]
  },
  {
   "cell_type": "code",
   "execution_count": 239,
   "id": "9417211a-8962-49c0-9398-f40f3ad01727",
   "metadata": {},
   "outputs": [
    {
     "data": {
      "text/plain": [
       "str"
      ]
     },
     "execution_count": 239,
     "metadata": {},
     "output_type": "execute_result"
    }
   ],
   "source": [
    "type(x)"
   ]
  },
  {
   "cell_type": "code",
   "execution_count": 241,
   "id": "5be27708-66ee-4920-aece-9d521fab983e",
   "metadata": {},
   "outputs": [
    {
     "data": {
      "text/plain": [
       "str"
      ]
     },
     "execution_count": 241,
     "metadata": {},
     "output_type": "execute_result"
    }
   ],
   "source": [
    "type(y)"
   ]
  },
  {
   "cell_type": "code",
   "execution_count": 243,
   "id": "23ee6894-1ad1-4a46-ac61-95819782813b",
   "metadata": {},
   "outputs": [
    {
     "data": {
      "text/plain": [
       "'23'"
      ]
     },
     "execution_count": 243,
     "metadata": {},
     "output_type": "execute_result"
    }
   ],
   "source": [
    "y"
   ]
  },
  {
   "cell_type": "code",
   "execution_count": null,
   "id": "2aa9b9b3-56cc-4172-a1ae-07927766a436",
   "metadata": {},
   "outputs": [],
   "source": []
  }
 ],
 "metadata": {
  "kernelspec": {
   "display_name": "Python [conda env:base] *",
   "language": "python",
   "name": "conda-base-py"
  },
  "language_info": {
   "codemirror_mode": {
    "name": "ipython",
    "version": 3
   },
   "file_extension": ".py",
   "mimetype": "text/x-python",
   "name": "python",
   "nbconvert_exporter": "python",
   "pygments_lexer": "ipython3",
   "version": "3.12.7"
  }
 },
 "nbformat": 4,
 "nbformat_minor": 5
}
