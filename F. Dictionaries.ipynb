{
 "cells": [
  {
   "cell_type": "markdown",
   "id": "58bcee37-7dff-49e5-8704-434eb8f0bd4e",
   "metadata": {},
   "source": [
    "# DICTIONARIES\n",
    "* They are used to store data in the key and value format\n",
    "* **Syntax** - The rules in programming that provide arrangement and structure of code"
   ]
  },
  {
   "cell_type": "code",
   "execution_count": 2,
   "id": "da9cbdca-663c-49e5-8e9f-6819e8072346",
   "metadata": {},
   "outputs": [],
   "source": [
    "#A list is created using square brackets\n",
    "l = []"
   ]
  },
  {
   "cell_type": "code",
   "execution_count": 4,
   "id": "20d05769-63e9-4fe7-9057-5b64703ea16e",
   "metadata": {},
   "outputs": [
    {
     "data": {
      "text/plain": [
       "list"
      ]
     },
     "execution_count": 4,
     "metadata": {},
     "output_type": "execute_result"
    }
   ],
   "source": [
    "type(l)"
   ]
  },
  {
   "cell_type": "code",
   "execution_count": 10,
   "id": "8a7f2f26-fe6c-4716-b71b-b7bd2ffc5889",
   "metadata": {},
   "outputs": [],
   "source": [
    "#A dictionary is created using curly brackets\n",
    "d = {}"
   ]
  },
  {
   "cell_type": "code",
   "execution_count": 8,
   "id": "2c1e67bd-ab62-4618-9b08-3bda9d9de519",
   "metadata": {},
   "outputs": [
    {
     "data": {
      "text/plain": [
       "dict"
      ]
     },
     "execution_count": 8,
     "metadata": {},
     "output_type": "execute_result"
    }
   ],
   "source": [
    "type(d)"
   ]
  },
  {
   "cell_type": "markdown",
   "id": "e8e4d0f5-0113-431e-9452-d77add444e77",
   "metadata": {},
   "source": [
    "## Methods for creating a dictionary\n",
    "### Curly brackets"
   ]
  },
  {
   "cell_type": "code",
   "execution_count": 13,
   "id": "5f261eb0-10ae-4a01-bd82-14b91eb75d4c",
   "metadata": {},
   "outputs": [],
   "source": [
    "#Keys - Name, Gender\n",
    "#Values - Caroline, Female\n",
    "person = {\"Name\" : \"Caroline\", \n",
    "          \"Gender\" : \"Female\"}"
   ]
  },
  {
   "cell_type": "code",
   "execution_count": 15,
   "id": "04d7bd7a-4d1d-4c25-88d4-156c2561b1e1",
   "metadata": {},
   "outputs": [
    {
     "data": {
      "text/plain": [
       "{'name': 'Caroline', 'gender': 'Female'}"
      ]
     },
     "execution_count": 15,
     "metadata": {},
     "output_type": "execute_result"
    }
   ],
   "source": [
    "person"
   ]
  },
  {
   "cell_type": "markdown",
   "id": "396a3c94-38bd-4704-a5bb-2f08c56d6959",
   "metadata": {},
   "source": [
    "### Using the dict function"
   ]
  },
  {
   "cell_type": "code",
   "execution_count": 35,
   "id": "c5385060-03b2-4ebb-991c-6109e4c1658d",
   "metadata": {},
   "outputs": [],
   "source": [
    "#SYNTAX - dict([(KEYS), (VALUES)])\n",
    "person2 = dict([(\"Name\", \"Gender\"), (\"Caroline\", \"Female\")])         "
   ]
  },
  {
   "cell_type": "code",
   "execution_count": 37,
   "id": "7e8ee7ed-9c1c-4ebd-aad0-7a5f7192603c",
   "metadata": {},
   "outputs": [
    {
     "data": {
      "text/plain": [
       "{'Name': 'Gender', 'Caroline': 'Female'}"
      ]
     },
     "execution_count": 37,
     "metadata": {},
     "output_type": "execute_result"
    }
   ],
   "source": [
    "person2"
   ]
  },
  {
   "cell_type": "markdown",
   "id": "6da61d65-732f-4b67-9577-4dbe2cae6c5a",
   "metadata": {},
   "source": [
    "### Identifying the values in a dictionary"
   ]
  },
  {
   "cell_type": "code",
   "execution_count": 19,
   "id": "2838ed2c-09d7-4514-9e1e-b9e3b204507d",
   "metadata": {},
   "outputs": [
    {
     "data": {
      "text/plain": [
       "{'name': 'Caroline', 'gender': 'Female'}"
      ]
     },
     "execution_count": 19,
     "metadata": {},
     "output_type": "execute_result"
    }
   ],
   "source": [
    "person"
   ]
  },
  {
   "cell_type": "code",
   "execution_count": 21,
   "id": "bde1ae9c-6726-4ef5-af95-0bed38f40891",
   "metadata": {},
   "outputs": [
    {
     "data": {
      "text/plain": [
       "<function dict.keys>"
      ]
     },
     "execution_count": 21,
     "metadata": {},
     "output_type": "execute_result"
    }
   ],
   "source": [
    "person.keys"
   ]
  },
  {
   "cell_type": "code",
   "execution_count": 23,
   "id": "759c52e3-5c48-4229-9e07-498e95e40db9",
   "metadata": {},
   "outputs": [
    {
     "data": {
      "text/plain": [
       "<function dict.values>"
      ]
     },
     "execution_count": 23,
     "metadata": {},
     "output_type": "execute_result"
    }
   ],
   "source": [
    "person.values"
   ]
  },
  {
   "cell_type": "code",
   "execution_count": 115,
   "id": "c1cf427b-28a6-41eb-93d2-0e23983fd82c",
   "metadata": {},
   "outputs": [
    {
     "data": {
      "text/plain": [
       "<function dict.items>"
      ]
     },
     "execution_count": 115,
     "metadata": {},
     "output_type": "execute_result"
    }
   ],
   "source": [
    "person.items"
   ]
  },
  {
   "cell_type": "code",
   "execution_count": 25,
   "id": "0248eb07-dffc-4d44-9ef3-12b2a4c27dd4",
   "metadata": {},
   "outputs": [
    {
     "data": {
      "text/plain": [
       "dict_keys(['name', 'gender'])"
      ]
     },
     "execution_count": 25,
     "metadata": {},
     "output_type": "execute_result"
    }
   ],
   "source": [
    "person.keys()"
   ]
  },
  {
   "cell_type": "code",
   "execution_count": 33,
   "id": "d1383ed3-70f2-4e21-add3-9070cc7523b2",
   "metadata": {},
   "outputs": [
    {
     "data": {
      "text/plain": [
       "dict_values(['Caroline', 'Female'])"
      ]
     },
     "execution_count": 33,
     "metadata": {},
     "output_type": "execute_result"
    }
   ],
   "source": [
    "person.values()"
   ]
  },
  {
   "cell_type": "code",
   "execution_count": 117,
   "id": "a527824e-1595-4a33-af5d-73034ef80f05",
   "metadata": {},
   "outputs": [
    {
     "data": {
      "text/plain": [
       "dict_items([('name', 'Caroline'), ('gender', 'Female')])"
      ]
     },
     "execution_count": 117,
     "metadata": {},
     "output_type": "execute_result"
    }
   ],
   "source": [
    "person.items()"
   ]
  },
  {
   "cell_type": "markdown",
   "id": "2273d1e2-3928-4b11-9eb0-691b0067c187",
   "metadata": {},
   "source": [
    "### Extracting values from a dictionary"
   ]
  },
  {
   "cell_type": "code",
   "execution_count": 48,
   "id": "0c5cba32-30bd-4cfd-8d5e-11e716269807",
   "metadata": {},
   "outputs": [],
   "source": [
    "person3 = {\"Name\" : \"Amos\",\n",
    "           \"Age\" : 28,\n",
    "           \"Salary\" : 40000}        "
   ]
  },
  {
   "cell_type": "code",
   "execution_count": 50,
   "id": "f756ed78-610e-4310-91af-152f1b75f8c1",
   "metadata": {
    "scrolled": true
   },
   "outputs": [
    {
     "data": {
      "text/plain": [
       "{'Name': 'Amos', 'Age': 28, 'Salary': 40000}"
      ]
     },
     "execution_count": 50,
     "metadata": {},
     "output_type": "execute_result"
    }
   ],
   "source": [
    "person3"
   ]
  },
  {
   "cell_type": "markdown",
   "id": "015b1ad3-af01-4f8c-814c-b4a1aab1534e",
   "metadata": {},
   "source": [
    "#### Method 1"
   ]
  },
  {
   "cell_type": "code",
   "execution_count": 52,
   "id": "67ea5783-91e3-4122-bba2-dd3368b1b9a4",
   "metadata": {},
   "outputs": [
    {
     "data": {
      "text/plain": [
       "'Amos'"
      ]
     },
     "execution_count": 52,
     "metadata": {},
     "output_type": "execute_result"
    }
   ],
   "source": [
    "person3[\"Name\"]"
   ]
  },
  {
   "cell_type": "code",
   "execution_count": 54,
   "id": "11de3da5-5910-43c8-b161-2cb3fd46fb67",
   "metadata": {},
   "outputs": [
    {
     "data": {
      "text/plain": [
       "28"
      ]
     },
     "execution_count": 54,
     "metadata": {},
     "output_type": "execute_result"
    }
   ],
   "source": [
    "person3[\"Age\"]"
   ]
  },
  {
   "cell_type": "code",
   "execution_count": 56,
   "id": "8c677f7b-0f57-46d5-8abd-43d6584b542f",
   "metadata": {},
   "outputs": [
    {
     "data": {
      "text/plain": [
       "40000"
      ]
     },
     "execution_count": 56,
     "metadata": {},
     "output_type": "execute_result"
    }
   ],
   "source": [
    "person3[\"Salary\"]"
   ]
  },
  {
   "cell_type": "markdown",
   "id": "d24b1b5a-1880-47f3-97b5-140555bd61d5",
   "metadata": {},
   "source": [
    "#### Method 2"
   ]
  },
  {
   "cell_type": "code",
   "execution_count": 62,
   "id": "279d23fb-6ea8-4202-9c68-656989ce3a90",
   "metadata": {},
   "outputs": [
    {
     "data": {
      "text/plain": [
       "'Amos'"
      ]
     },
     "execution_count": 62,
     "metadata": {},
     "output_type": "execute_result"
    }
   ],
   "source": [
    "person3.get(\"Name\")"
   ]
  },
  {
   "cell_type": "code",
   "execution_count": 64,
   "id": "1102e083-b098-4ddc-8d88-3496b1af6844",
   "metadata": {},
   "outputs": [
    {
     "data": {
      "text/plain": [
       "28"
      ]
     },
     "execution_count": 64,
     "metadata": {},
     "output_type": "execute_result"
    }
   ],
   "source": [
    "person3.get(\"Age\")"
   ]
  },
  {
   "cell_type": "code",
   "execution_count": 66,
   "id": "8038cd3d-efe7-4fa6-897d-b26e583ba2ab",
   "metadata": {},
   "outputs": [
    {
     "data": {
      "text/plain": [
       "40000"
      ]
     },
     "execution_count": 66,
     "metadata": {},
     "output_type": "execute_result"
    }
   ],
   "source": [
    "person3.get(\"Salary\")"
   ]
  },
  {
   "cell_type": "markdown",
   "id": "93391906-7625-4ade-9bbe-c1d70a14b79e",
   "metadata": {},
   "source": [
    "### Modifying values in a dictionary"
   ]
  },
  {
   "cell_type": "code",
   "execution_count": 74,
   "id": "8647abcb-de37-439a-b635-e94bb7f6e8e6",
   "metadata": {},
   "outputs": [],
   "source": [
    "person3[\"Name\"] = \"Alex\""
   ]
  },
  {
   "cell_type": "code",
   "execution_count": 76,
   "id": "076dd3de-8a88-407d-ac59-b76f97f9c976",
   "metadata": {},
   "outputs": [
    {
     "data": {
      "text/plain": [
       "{'Name': 'Alex', 'Age': 28, 'Salary': 40000}"
      ]
     },
     "execution_count": 76,
     "metadata": {},
     "output_type": "execute_result"
    }
   ],
   "source": [
    "person3"
   ]
  },
  {
   "cell_type": "code",
   "execution_count": 88,
   "id": "7c0f7835-6087-4016-b438-734a6bd3482e",
   "metadata": {},
   "outputs": [],
   "source": [
    "person3[\"Age\"] = 35"
   ]
  },
  {
   "cell_type": "code",
   "execution_count": 90,
   "id": "d1c8c824-f459-4524-8185-f3ce63208e4b",
   "metadata": {
    "scrolled": true
   },
   "outputs": [
    {
     "data": {
      "text/plain": [
       "{'Name': 'Alex', 'Age': 35, 'Salary': 40000}"
      ]
     },
     "execution_count": 90,
     "metadata": {},
     "output_type": "execute_result"
    }
   ],
   "source": [
    "person3"
   ]
  },
  {
   "cell_type": "code",
   "execution_count": 92,
   "id": "96a27215-f1c4-435b-8be9-c335993e6e09",
   "metadata": {},
   "outputs": [],
   "source": [
    "person3[\"Salary\"] = 60000"
   ]
  },
  {
   "cell_type": "code",
   "execution_count": 94,
   "id": "b7e36dda-7926-4345-94cd-308720b4d995",
   "metadata": {},
   "outputs": [
    {
     "data": {
      "text/plain": [
       "{'Name': 'Alex', 'Age': 35, 'Salary': 60000}"
      ]
     },
     "execution_count": 94,
     "metadata": {},
     "output_type": "execute_result"
    }
   ],
   "source": [
    "person3"
   ]
  },
  {
   "cell_type": "markdown",
   "id": "a8237e68-6778-451e-94a1-a6765f9763d1",
   "metadata": {},
   "source": [
    "### Removing values in a dictionary"
   ]
  },
  {
   "cell_type": "code",
   "execution_count": 97,
   "id": "9297a450-7db2-46b0-928d-58149dcccbe9",
   "metadata": {},
   "outputs": [],
   "source": [
    "x = {\"Country\" : \"Kenya\",\n",
    "     \"Counties\" : 47,\n",
    "     \"Currency\" : \"Ksh.\",\n",
    "     \"CapitalCity\" : \"Nairobi\"}"
   ]
  },
  {
   "cell_type": "code",
   "execution_count": 99,
   "id": "ea06ddc7-c894-46e5-b181-55cab4b69972",
   "metadata": {},
   "outputs": [
    {
     "data": {
      "text/plain": [
       "{'Country': 'Kenya',\n",
       " 'Counties': 47,\n",
       " 'Currency': 'Ksh.',\n",
       " 'CapitalCity': 'Nairobi'}"
      ]
     },
     "execution_count": 99,
     "metadata": {},
     "output_type": "execute_result"
    }
   ],
   "source": [
    "x"
   ]
  },
  {
   "cell_type": "code",
   "execution_count": 101,
   "id": "ef4ef0cd-1a71-43e4-83cf-a0efd8b61895",
   "metadata": {},
   "outputs": [],
   "source": [
    "del x[\"Counties\"]"
   ]
  },
  {
   "cell_type": "code",
   "execution_count": 103,
   "id": "4b13ffdc-c683-4632-9e38-f69888e0ded6",
   "metadata": {},
   "outputs": [
    {
     "data": {
      "text/plain": [
       "{'Country': 'Kenya', 'Currency': 'Ksh.', 'CapitalCity': 'Nairobi'}"
      ]
     },
     "execution_count": 103,
     "metadata": {},
     "output_type": "execute_result"
    }
   ],
   "source": [
    "x"
   ]
  },
  {
   "cell_type": "code",
   "execution_count": 105,
   "id": "865cd3c9-9df8-453a-ab2c-d6cde7406079",
   "metadata": {},
   "outputs": [
    {
     "data": {
      "text/plain": [
       "'Kenya'"
      ]
     },
     "execution_count": 105,
     "metadata": {},
     "output_type": "execute_result"
    }
   ],
   "source": [
    "x.pop(\"Country\")"
   ]
  },
  {
   "cell_type": "code",
   "execution_count": 107,
   "id": "125cd02e-077d-4317-8620-eb191f9e3ea3",
   "metadata": {},
   "outputs": [
    {
     "data": {
      "text/plain": [
       "{'Currency': 'Ksh.', 'CapitalCity': 'Nairobi'}"
      ]
     },
     "execution_count": 107,
     "metadata": {},
     "output_type": "execute_result"
    }
   ],
   "source": [
    "x"
   ]
  },
  {
   "cell_type": "code",
   "execution_count": 113,
   "id": "546f3b98-3538-44b8-bd88-dadbf930f16f",
   "metadata": {
    "scrolled": true
   },
   "outputs": [
    {
     "data": {
      "text/plain": [
       "('Currency', 'Ksh.')"
      ]
     },
     "execution_count": 113,
     "metadata": {},
     "output_type": "execute_result"
    }
   ],
   "source": [
    "#It removes the last item in the dictionary. It works like .pop() in lists\n",
    "x.popitem()"
   ]
  },
  {
   "cell_type": "markdown",
   "id": "8910c400-cd25-4f13-bb1e-03901341256b",
   "metadata": {},
   "source": [
    "### Duplicating items in a dictionary"
   ]
  },
  {
   "cell_type": "code",
   "execution_count": 125,
   "id": "1f829bfc-7876-4916-8264-acae43843ce8",
   "metadata": {},
   "outputs": [],
   "source": [
    "person4 = person3.copy()"
   ]
  },
  {
   "cell_type": "code",
   "execution_count": 127,
   "id": "069c406f-0617-4e55-b6c2-6c28eaec5d01",
   "metadata": {},
   "outputs": [
    {
     "data": {
      "text/plain": [
       "{'Name': 'Alex', 'Age': 35, 'Salary': 60000}"
      ]
     },
     "execution_count": 127,
     "metadata": {},
     "output_type": "execute_result"
    }
   ],
   "source": [
    "person4"
   ]
  },
  {
   "cell_type": "markdown",
   "id": "05dc77c7-0042-4d17-b594-8763ed7d0b42",
   "metadata": {},
   "source": [
    "### Emptying all values in a list"
   ]
  },
  {
   "cell_type": "code",
   "execution_count": 129,
   "id": "e3f90a1c-e48d-4eff-88ff-57149e5de303",
   "metadata": {},
   "outputs": [
    {
     "data": {
      "text/plain": [
       "{'Name': 'Alex', 'Age': 35, 'Salary': 60000}"
      ]
     },
     "execution_count": 129,
     "metadata": {},
     "output_type": "execute_result"
    }
   ],
   "source": [
    "person4"
   ]
  },
  {
   "cell_type": "code",
   "execution_count": 131,
   "id": "929641e9-cb3f-4a0f-880c-afe01d64578c",
   "metadata": {},
   "outputs": [],
   "source": [
    "person4.clear()"
   ]
  },
  {
   "cell_type": "code",
   "execution_count": 133,
   "id": "733f9d2e-7c26-40c8-ba94-cdf4524fb64d",
   "metadata": {},
   "outputs": [
    {
     "data": {
      "text/plain": [
       "{}"
      ]
     },
     "execution_count": 133,
     "metadata": {},
     "output_type": "execute_result"
    }
   ],
   "source": [
    "person4"
   ]
  },
  {
   "cell_type": "code",
   "execution_count": 135,
   "id": "daca669b-f7ba-431f-8bad-d30916591f95",
   "metadata": {},
   "outputs": [],
   "source": [
    "del person4"
   ]
  },
  {
   "cell_type": "code",
   "execution_count": 139,
   "id": "e588b01d-48c7-499d-b834-cb1658ef4849",
   "metadata": {},
   "outputs": [],
   "source": [
    "x = \"Carol\""
   ]
  },
  {
   "cell_type": "code",
   "execution_count": 141,
   "id": "4d4083eb-5997-42e2-9c6a-b1328984e801",
   "metadata": {},
   "outputs": [],
   "source": [
    "y = x.upper()"
   ]
  },
  {
   "cell_type": "code",
   "execution_count": 143,
   "id": "7fd7f4df-e136-4b5e-b02f-cc8ff2a998fd",
   "metadata": {},
   "outputs": [
    {
     "data": {
      "text/plain": [
       "'CAROL'"
      ]
     },
     "execution_count": 143,
     "metadata": {},
     "output_type": "execute_result"
    }
   ],
   "source": [
    "y"
   ]
  },
  {
   "cell_type": "code",
   "execution_count": 145,
   "id": "65950fc9-7000-45f7-8e22-5a46673502e5",
   "metadata": {},
   "outputs": [],
   "source": [
    "z = x.lower()"
   ]
  },
  {
   "cell_type": "code",
   "execution_count": 147,
   "id": "4fcdd4de-3973-45ef-a4d4-04fc4ad22ca4",
   "metadata": {},
   "outputs": [
    {
     "data": {
      "text/plain": [
       "'carol'"
      ]
     },
     "execution_count": 147,
     "metadata": {},
     "output_type": "execute_result"
    }
   ],
   "source": [
    "z"
   ]
  },
  {
   "cell_type": "code",
   "execution_count": 149,
   "id": "a01df13b-755a-4f54-a912-0fc5db4ccb44",
   "metadata": {},
   "outputs": [],
   "source": [
    "t = x.title()"
   ]
  },
  {
   "cell_type": "code",
   "execution_count": 151,
   "id": "5f329f3f-3102-4d6d-85ed-dcd473e29d7a",
   "metadata": {},
   "outputs": [
    {
     "data": {
      "text/plain": [
       "'Carol'"
      ]
     },
     "execution_count": 151,
     "metadata": {},
     "output_type": "execute_result"
    }
   ],
   "source": [
    "t"
   ]
  },
  {
   "cell_type": "markdown",
   "id": "0d4e1a74-dff2-4b00-959e-5d3082c8f8ac",
   "metadata": {},
   "source": [
    "### Looping in dictionaries"
   ]
  },
  {
   "cell_type": "code",
   "execution_count": 154,
   "id": "273b5547-ca5b-45fd-8ab9-08a2c89c44ff",
   "metadata": {},
   "outputs": [],
   "source": [
    "x = {\"Country\" : \"Kenya\",\n",
    "     \"Counties\" : 47,\n",
    "     \"Currency\" : \"Ksh.\",\n",
    "     \"CapitalCity\" : \"Nairobi\"}"
   ]
  },
  {
   "cell_type": "code",
   "execution_count": 156,
   "id": "8d46e8b0-d521-4c0c-a6cc-d821fb8936dd",
   "metadata": {},
   "outputs": [
    {
     "data": {
      "text/plain": [
       "{'Country': 'Kenya',\n",
       " 'Counties': 47,\n",
       " 'Currency': 'Ksh.',\n",
       " 'CapitalCity': 'Nairobi'}"
      ]
     },
     "execution_count": 156,
     "metadata": {},
     "output_type": "execute_result"
    }
   ],
   "source": [
    "x"
   ]
  },
  {
   "cell_type": "code",
   "execution_count": 158,
   "id": "7d4874c1-5972-4df5-b7e3-ee09c53d0b3c",
   "metadata": {},
   "outputs": [
    {
     "data": {
      "text/plain": [
       "dict_keys(['Country', 'Counties', 'Currency', 'CapitalCity'])"
      ]
     },
     "execution_count": 158,
     "metadata": {},
     "output_type": "execute_result"
    }
   ],
   "source": [
    "x.keys()"
   ]
  },
  {
   "cell_type": "code",
   "execution_count": 160,
   "id": "bd5b3be0-f07d-4425-9b1b-4aa6c9fa9eef",
   "metadata": {},
   "outputs": [
    {
     "data": {
      "text/plain": [
       "dict_values(['Kenya', 47, 'Ksh.', 'Nairobi'])"
      ]
     },
     "execution_count": 160,
     "metadata": {},
     "output_type": "execute_result"
    }
   ],
   "source": [
    "x.values()"
   ]
  },
  {
   "cell_type": "code",
   "execution_count": 162,
   "id": "2afd8f1e-f8e8-4bfd-add9-7e1340d71031",
   "metadata": {},
   "outputs": [
    {
     "data": {
      "text/plain": [
       "dict_items([('Country', 'Kenya'), ('Counties', 47), ('Currency', 'Ksh.'), ('CapitalCity', 'Nairobi')])"
      ]
     },
     "execution_count": 162,
     "metadata": {},
     "output_type": "execute_result"
    }
   ],
   "source": [
    "x.items()"
   ]
  },
  {
   "cell_type": "markdown",
   "id": "86140e39-3aa1-410d-9f78-d6ec073719b6",
   "metadata": {},
   "source": [
    "### Looping in dictionaries\n",
    "#### Looping through keys"
   ]
  },
  {
   "cell_type": "code",
   "execution_count": 164,
   "id": "542fee07-2ce3-4085-93c9-ee38c09e0c7b",
   "metadata": {},
   "outputs": [
    {
     "name": "stdout",
     "output_type": "stream",
     "text": [
      "Country\n",
      "Counties\n",
      "Currency\n",
      "CapitalCity\n"
     ]
    }
   ],
   "source": [
    "#c represents each key in the dictionary. \n",
    "for c in x:\n",
    "    print(c)"
   ]
  },
  {
   "cell_type": "code",
   "execution_count": 166,
   "id": "19ec374d-f9e2-4851-bf59-c776070bdd02",
   "metadata": {
    "scrolled": true
   },
   "outputs": [
    {
     "name": "stdout",
     "output_type": "stream",
     "text": [
      "COUNTRY\n",
      "COUNTIES\n",
      "CURRENCY\n",
      "CAPITALCITY\n"
     ]
    }
   ],
   "source": [
    "for c in x:\n",
    "    print(c.upper())"
   ]
  },
  {
   "cell_type": "markdown",
   "id": "129a2e9d-0d22-4802-b723-375fb7e25fc7",
   "metadata": {},
   "source": [
    "#### Looping through values"
   ]
  },
  {
   "cell_type": "code",
   "execution_count": 174,
   "id": "2a4f43d4-d14f-40a3-a23e-298e02dd1c74",
   "metadata": {},
   "outputs": [
    {
     "name": "stdout",
     "output_type": "stream",
     "text": [
      "Kenya\n",
      "47\n",
      "Ksh.\n",
      "Nairobi\n"
     ]
    }
   ],
   "source": [
    "for c in x.values():\n",
    "    print(c)"
   ]
  },
  {
   "cell_type": "code",
   "execution_count": 182,
   "id": "778682ec-ab1b-435f-bb30-31140a6107ff",
   "metadata": {},
   "outputs": [
    {
     "name": "stdout",
     "output_type": "stream",
     "text": [
      "Kenya\n",
      "47\n",
      "Ksh.\n",
      "Nairobi\n"
     ]
    }
   ],
   "source": [
    "for c in x.values():\n",
    "    print(c)"
   ]
  },
  {
   "cell_type": "code",
   "execution_count": 186,
   "id": "f8d47cb0-fb93-4f38-a2ad-39cd3f174732",
   "metadata": {},
   "outputs": [],
   "source": [
    "l = []"
   ]
  },
  {
   "cell_type": "code",
   "execution_count": 188,
   "id": "3946222d-f270-4703-a56f-43e5a226ae8b",
   "metadata": {},
   "outputs": [],
   "source": [
    "for c in x.values():\n",
    "    l.append(c)"
   ]
  },
  {
   "cell_type": "code",
   "execution_count": 190,
   "id": "7408b227-7ca7-4c98-8a88-25d3d01da042",
   "metadata": {},
   "outputs": [
    {
     "data": {
      "text/plain": [
       "['Kenya', 47, 'Ksh.', 'Nairobi']"
      ]
     },
     "execution_count": 190,
     "metadata": {},
     "output_type": "execute_result"
    }
   ],
   "source": [
    "l"
   ]
  },
  {
   "cell_type": "raw",
   "id": "2776a860-0156-4d11-b75e-b7177128b920",
   "metadata": {},
   "source": [
    "for x in l:\n",
    "    print(x.upper())"
   ]
  },
  {
   "cell_type": "code",
   "execution_count": null,
   "id": "34eefbc6-5fca-4822-9a66-e3531096ba45",
   "metadata": {},
   "outputs": [],
   "source": []
  }
 ],
 "metadata": {
  "kernelspec": {
   "display_name": "Python [conda env:base] *",
   "language": "python",
   "name": "conda-base-py"
  },
  "language_info": {
   "codemirror_mode": {
    "name": "ipython",
    "version": 3
   },
   "file_extension": ".py",
   "mimetype": "text/x-python",
   "name": "python",
   "nbconvert_exporter": "python",
   "pygments_lexer": "ipython3",
   "version": "3.12.7"
  }
 },
 "nbformat": 4,
 "nbformat_minor": 5
}
