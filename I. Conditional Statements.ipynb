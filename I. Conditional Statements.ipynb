{
 "cells": [
  {
   "cell_type": "markdown",
   "id": "81cbbde8-2013-4185-b4bc-05e543de9532",
   "metadata": {},
   "source": [
    "## CONDITIONAL STATEMENTS\n",
    "* They are used to make a decision between two or more items\n",
    "* The main items used in this comparison are **if, else and elif(else if)**"
   ]
  },
  {
   "cell_type": "markdown",
   "id": "e0f22259-ccb1-4c0b-a82b-9b33eb79b7c2",
   "metadata": {},
   "source": [
    "### Logic of one item"
   ]
  },
  {
   "cell_type": "code",
   "execution_count": 7,
   "id": "8079375c-5ded-4e04-b246-2ffd878eb8e5",
   "metadata": {},
   "outputs": [],
   "source": [
    "fruits = 5"
   ]
  },
  {
   "cell_type": "code",
   "execution_count": 9,
   "id": "916f9c19-b48b-4295-94fb-838703aebe79",
   "metadata": {},
   "outputs": [
    {
     "data": {
      "text/plain": [
       "5"
      ]
     },
     "execution_count": 9,
     "metadata": {},
     "output_type": "execute_result"
    }
   ],
   "source": [
    "fruits"
   ]
  },
  {
   "cell_type": "code",
   "execution_count": 11,
   "id": "298ede15-5f33-474c-a1d3-8f34ebbac3fe",
   "metadata": {},
   "outputs": [
    {
     "name": "stdout",
     "output_type": "stream",
     "text": [
      "The fruits are enough\n"
     ]
    }
   ],
   "source": [
    "#We are getting a result because the comparison is true\n",
    "if fruits > 2:\n",
    "    print(\"The fruits are enough\")"
   ]
  },
  {
   "cell_type": "code",
   "execution_count": 13,
   "id": "b9e68946-97d9-42df-bf10-b9ad5d35a655",
   "metadata": {},
   "outputs": [],
   "source": [
    "#We will not get a result because the comparison is false\n",
    "if fruits > 7:\n",
    "    print(\"The fruits are enough\")"
   ]
  },
  {
   "cell_type": "markdown",
   "id": "d14f02c6-be45-4402-b0ff-91721a9d770d",
   "metadata": {},
   "source": [
    "### Making a decision between two items"
   ]
  },
  {
   "cell_type": "code",
   "execution_count": 19,
   "id": "9a6b93cb-82ca-4728-9bd1-8436ecdf1872",
   "metadata": {},
   "outputs": [
    {
     "name": "stdout",
     "output_type": "stream",
     "text": [
      "You are an adult\n"
     ]
    }
   ],
   "source": [
    "age = 18\n",
    "if age >= 18:\n",
    "    print(\"You are an adult\")\n",
    "else:\n",
    "    print(\"You are a child\")"
   ]
  },
  {
   "cell_type": "code",
   "execution_count": 21,
   "id": "e77561db-8d0e-4732-bb21-7b07753147f9",
   "metadata": {},
   "outputs": [
    {
     "name": "stdout",
     "output_type": "stream",
     "text": [
      "You are a child\n"
     ]
    }
   ],
   "source": [
    "age = 17\n",
    "if age >= 18:\n",
    "    print(\"You are an adult\")\n",
    "else:\n",
    "    print(\"You are a child\")"
   ]
  },
  {
   "cell_type": "markdown",
   "id": "277c48d7-d933-4b97-8645-d9ae0aeb0eea",
   "metadata": {},
   "source": [
    "### Making a decision between three or more items"
   ]
  },
  {
   "cell_type": "code",
   "execution_count": 42,
   "id": "dfb03755-7d67-4d17-9643-1e76ad62c1e9",
   "metadata": {},
   "outputs": [],
   "source": [
    "#Grade A = 90\n",
    "#Grade B = 65\n",
    "#Grade C = 50\n",
    "#Grade D = 30\n",
    "#Grade E = 0\n",
    "marks  = 100"
   ]
  },
  {
   "cell_type": "code",
   "execution_count": 44,
   "id": "8dc7ac41-9b98-4292-84ba-e1482e8ef206",
   "metadata": {},
   "outputs": [
    {
     "name": "stdout",
     "output_type": "stream",
     "text": [
      "Grade A\n"
     ]
    }
   ],
   "source": [
    "if marks >= 90:\n",
    "    print(\"Grade A\")\n",
    "elif marks >= 65:\n",
    "    print(\"Grade B\")\n",
    "elif marks >= 50:\n",
    "    print(\"Grade C\")\n",
    "elif marks >= 30:\n",
    "    print(\"Grade D\")\n",
    "elif marks >= 0:\n",
    "    print(\"Grade E\")"
   ]
  },
  {
   "cell_type": "markdown",
   "id": "c2ea1a24-4b28-4a35-a41c-e577cdadaa10",
   "metadata": {},
   "source": [
    "### Nested Conditions"
   ]
  },
  {
   "cell_type": "code",
   "execution_count": 55,
   "id": "a7e1bd3b-b645-43c8-b892-0ceda4ef354e",
   "metadata": {},
   "outputs": [
    {
     "name": "stdout",
     "output_type": "stream",
     "text": [
      "The number is less than 50 and is odd\n"
     ]
    }
   ],
   "source": [
    "# A number that is greater or less than 50 and checking if it is positive or negative\n",
    "x = 31\n",
    "if x > 50:\n",
    "    if x % 2 == 0:\n",
    "        print(\"The number is greater than 50 and is even\")\n",
    "    else:\n",
    "        print(\"The number is greater than 50 and is odd\")\n",
    "else:\n",
    "    if x % 2 == 1:\n",
    "        print(\"The number is less than 50 and is odd\")\n",
    "    else:\n",
    "        print(\"The number is less than 50 and is even\")"
   ]
  },
  {
   "cell_type": "code",
   "execution_count": null,
   "id": "de62dbce-e04c-438a-95b3-29df99538c6e",
   "metadata": {},
   "outputs": [],
   "source": []
  }
 ],
 "metadata": {
  "kernelspec": {
   "display_name": "Python [conda env:base] *",
   "language": "python",
   "name": "conda-base-py"
  },
  "language_info": {
   "codemirror_mode": {
    "name": "ipython",
    "version": 3
   },
   "file_extension": ".py",
   "mimetype": "text/x-python",
   "name": "python",
   "nbconvert_exporter": "python",
   "pygments_lexer": "ipython3",
   "version": "3.12.7"
  }
 },
 "nbformat": 4,
 "nbformat_minor": 5
}
